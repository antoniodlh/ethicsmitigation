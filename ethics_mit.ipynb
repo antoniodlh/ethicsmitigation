{
 "cells": [
  {
   "cell_type": "code",
   "execution_count": 1,
   "metadata": {},
   "outputs": [],
   "source": [
    "import pandas as pd\n",
    "import numpy as np \n",
    "import matplotlib.pyplot as plt\n",
    "import aif360\n",
    "from aif360.algorithms.preprocessing import DisparateImpactRemover"
   ]
  },
  {
   "cell_type": "code",
   "execution_count": 2,
   "metadata": {},
   "outputs": [],
   "source": [
    "##create OHE method for step 4\n",
    "def encoding(dframe, feat):\n",
    "    dummies = pd.get_dummies(dframe[[feat]])\n",
    "    res = pd.concat([dframe, dummies], axis=1)\n",
    "    res = res.drop([feat], axis=1)\n",
    "    return(res)"
   ]
  },
  {
   "cell_type": "markdown",
   "metadata": {},
   "source": [
    "# Step 1\n",
    "#### 1) Which dataset did you select?\n",
    "Loan Eligibility for Dream Housing Finance company (https://datahack.analyticsvidhya.com/contest/practice-problem-loan-prediction-iii/#About)\n",
    "<br>\n",
    "*Note - You will need to register on website to get access to dataset*\n",
    "</br>"
   ]
  },
  {
   "cell_type": "markdown",
   "metadata": {},
   "source": [
    "### Dataset Information:\n",
    "\n",
    "\n",
    "Loan_ID =\tUnique Loan ID\n",
    "<br>\n",
    "Gender = Male/ Female\n",
    "<br>\n",
    "Married\t= Applicant married (Y/N)\n",
    "<br>\n",
    "Dependents = Number of dependents\n",
    "<br>\n",
    "Education = Applicant Education (Graduate/ Under Graduate)\n",
    "<br>\n",
    "Self_Employed = Self employed (Y/N)\n",
    "<br>\n",
    "ApplicantIncome = Applicant income\n",
    "<br>\n",
    "CoapplicantIncome = Coapplicant income\n",
    "<br>\n",
    "LoanAmount = Loan amount in thousands\n",
    "<br>\n",
    "Loan_Amount_Term = Term of loan in months\n",
    "<br>\n",
    "Credit_History = credit history meets guidelines\n",
    "<br>\n",
    "Property_Area = Urban/ Semi Urban/ Rural\n",
    "<br>\n",
    "Loan_Status = (Target) Loan approved (Y/N)"
   ]
  },
  {
   "cell_type": "code",
   "execution_count": 3,
   "metadata": {},
   "outputs": [],
   "source": [
    "df = pd.read_csv(\"train_ctrUa4K.csv\")"
   ]
  },
  {
   "cell_type": "markdown",
   "metadata": {},
   "source": [
    "#### 2) Which regulated domain does your dataset belong to?\n",
    "Credit (Equal Credit Opportunity Act)"
   ]
  },
  {
   "cell_type": "code",
   "execution_count": 4,
   "metadata": {},
   "outputs": [
    {
     "data": {
      "text/plain": [
       "(614, 13)"
      ]
     },
     "execution_count": 4,
     "metadata": {},
     "output_type": "execute_result"
    }
   ],
   "source": [
    "df.shape"
   ]
  },
  {
   "cell_type": "markdown",
   "metadata": {},
   "source": [
    "#### 3) How many observations are in the dataset?\n",
    "614\n",
    "\n",
    "#### 4) How many variables in the dataset?\n",
    "13"
   ]
  },
  {
   "cell_type": "markdown",
   "metadata": {},
   "source": [
    "#### 5) Which variables did you select as your dependent variables?\n",
    "1. LoanAmount - Loan amount granted (turned to binary dependent variable <=300 = 0 and >300 = 1)\n",
    "2. Loan_Status - Loan approval status \n",
    "\n",
    "#### 6) How many and which variables in the dataset are associated with a legally recognized protected class? Which legal precedence/law (as discussed in the lectures) does each protected class fall under?\n",
    "There are 2 variables associated with legally recognized protected classes: \n",
    "\n",
    "|# | Protected Class | Legal Precedence |\n",
    "| -----------|----------- | ----------- |\n",
    "| 1 |Sex - Gender | Equal Pay Act of 1963; <br> Civil Rights Act of 1964, 1991 </br> |\n",
    "| 2 |Familial Status - Married | Civil Rights Act of 1968|\n"
   ]
  },
  {
   "cell_type": "markdown",
   "metadata": {},
   "source": [
    "# Step 2"
   ]
  },
  {
   "cell_type": "markdown",
   "metadata": {},
   "source": [
    "#### 2.1) Identify the members associated with your protected class variables and group together into a subset of membership categories as appropriate. Provide Table documenting the relationship between members and membership categories for each protected class variable"
   ]
  },
  {
   "cell_type": "code",
   "execution_count": 5,
   "metadata": {
    "scrolled": true
   },
   "outputs": [
    {
     "name": "stdout",
     "output_type": "stream",
     "text": [
      "Gender\n",
      "Female    112\n",
      "Male      489\n",
      "dtype: int64\n"
     ]
    }
   ],
   "source": [
    "print(df.groupby('Gender').size())"
   ]
  },
  {
   "cell_type": "code",
   "execution_count": 6,
   "metadata": {},
   "outputs": [
    {
     "name": "stdout",
     "output_type": "stream",
     "text": [
      "Married\n",
      "No     213\n",
      "Yes    398\n",
      "dtype: int64\n"
     ]
    }
   ],
   "source": [
    "print(df.groupby('Married').size())"
   ]
  },
  {
   "cell_type": "markdown",
   "metadata": {},
   "source": [
    "| Protected Class | Members |\n",
    "| ----------- | ----------- |\n",
    "| Gender | Male, Female |\n",
    "| Familian Status (Married) | Yes, No |"
   ]
  },
  {
   "cell_type": "markdown",
   "metadata": {},
   "source": [
    "#### 2.2) Discretize the values associated with your dependent variables into discrete categories/numerical values as appropriate. Provide Table documenting the relationship between values and discrete categories/numerical values associated with your dependent variables"
   ]
  },
  {
   "cell_type": "code",
   "execution_count": 7,
   "metadata": {},
   "outputs": [],
   "source": [
    "#Gender mapping\n",
    "dict_gender = {}\n",
    "dict_gender['Male'] = 1\n",
    "dict_gender['Female'] = 2"
   ]
  },
  {
   "cell_type": "code",
   "execution_count": 8,
   "metadata": {},
   "outputs": [],
   "source": [
    "df['Gender_num'] = df['Gender'].dropna().apply (lambda row: dict_gender[row])"
   ]
  },
  {
   "cell_type": "markdown",
   "metadata": {},
   "source": [
    "<center>\n",
    "Values in Dependent Variable - Gender\n",
    "</center>\n",
    "\n",
    "| Discrete Category | Numerical Values | \n",
    "| ----------- | ----------- |\n",
    "| Male | 1 | \n",
    "| Female | 2 |"
   ]
  },
  {
   "cell_type": "code",
   "execution_count": 9,
   "metadata": {},
   "outputs": [],
   "source": [
    "#Married mapping\n",
    "dict_married = {}\n",
    "dict_married['Yes'] = 1\n",
    "dict_married['No'] = 2"
   ]
  },
  {
   "cell_type": "code",
   "execution_count": 10,
   "metadata": {},
   "outputs": [],
   "source": [
    "df['Married_num'] = df['Married'].dropna().apply (lambda row: dict_married[row])"
   ]
  },
  {
   "cell_type": "markdown",
   "metadata": {},
   "source": [
    "<center>\n",
    "Values in Dependent Variable - Married\n",
    "</center>\n",
    "\n",
    "| Discrete Category | Numerical Values |\n",
    "| ----------- | ----------- |\n",
    "| Yes | 1 |\n",
    "| No | 2 |"
   ]
  },
  {
   "cell_type": "code",
   "execution_count": 11,
   "metadata": {},
   "outputs": [],
   "source": [
    "#Loan Status mapping\n",
    "dict_loanstatus = {}\n",
    "dict_loanstatus['N'] = 0\n",
    "dict_loanstatus['Y'] = 1"
   ]
  },
  {
   "cell_type": "code",
   "execution_count": 12,
   "metadata": {},
   "outputs": [],
   "source": [
    "df['LoanStatus_num'] = df['Loan_Status'].dropna().apply (lambda row: dict_loanstatus[row])"
   ]
  },
  {
   "cell_type": "code",
   "execution_count": 13,
   "metadata": {},
   "outputs": [],
   "source": [
    "##modify dependent variable column LoanAmount to be binary, if greater than 300 then 1, below 300 then 0\n",
    "df['bin_loanamount'] = np.where(df['LoanAmount']>300, 1, 0)"
   ]
  },
  {
   "cell_type": "code",
   "execution_count": 14,
   "metadata": {},
   "outputs": [
    {
     "name": "stdout",
     "output_type": "stream",
     "text": [
      "22\n"
     ]
    }
   ],
   "source": [
    "###test and drop NaN values in dependent variable (22 NaN values removed)\n",
    "print(df['LoanAmount'].isnull().sum(axis = 0))\n",
    "df = df.dropna(subset=['LoanAmount'])"
   ]
  },
  {
   "cell_type": "markdown",
   "metadata": {},
   "source": [
    "<center>\n",
    "Values in independent Variable - Loan Amount\n",
    "</center>\n",
    "\n",
    "| Discrete Category | Numerical Values |\n",
    "| ----------- | ----------- |\n",
    "| <= 300 | 0 |\n",
    "| > 300 | 1 |"
   ]
  },
  {
   "cell_type": "markdown",
   "metadata": {},
   "source": [
    "<center>\n",
    "Values in independent Variable - Loan Status\n",
    "</center>\n",
    "\n",
    "| Discrete Category | Numerical Values |\n",
    "| ----------- | ----------- |\n",
    "| N | 0 |\n",
    "| Y | 1 |"
   ]
  },
  {
   "cell_type": "markdown",
   "metadata": {},
   "source": [
    "#### 2.3) Compute the frequency of each membership category associated with each of your protected class variables from Step 2.1 Show table providing the computed frequency values for the membership categories each protected class variable. "
   ]
  },
  {
   "cell_type": "markdown",
   "metadata": {},
   "source": [
    "<center>\n",
    "<b>and</b>\n",
    "</center>"
   ]
  },
  {
   "cell_type": "markdown",
   "metadata": {},
   "source": [
    "#### 2.4) Create a histogram for each protected class variable that graphs the frequency values of its membership categories as a function of the dependent variables. Show histograms derived. "
   ]
  },
  {
   "cell_type": "markdown",
   "metadata": {},
   "source": [
    "Following are four pairs of tables and histograms to support each of below: \n",
    "1. Protected Variable: Gender - Dependent Variable: Loan Amount \n",
    "2. Protected Variable: Gender - Dependent Variable: Loan Status\n",
    "3. Protected Variable: Married - Dependent Variable: Loan Amount\n",
    "4. Protected Variable: Married - Dependent Variable: Loan Status"
   ]
  },
  {
   "cell_type": "markdown",
   "metadata": {},
   "source": [
    "#### 2.3.1 & 2.4.1) Protected Variable: Gender - Dependent Variable: Loan Amount"
   ]
  },
  {
   "cell_type": "markdown",
   "metadata": {},
   "source": [
    "| Protected Class Variable | Fequency |\n",
    "| ----------- | ----------- |\n",
    "| **Gender - Male** | **Frequency of Male** |\n",
    "|               | LoanAmount <=300: 446 |\n",
    "|               | LoanAmount >300: 24 |\n",
    "| **Gender - Female** | **Frequency of Female** |\n",
    "|               | LoanAmount <=300: 106 |\n",
    "|               | LoanAmount >300: 3 |"
   ]
  },
  {
   "cell_type": "code",
   "execution_count": 15,
   "metadata": {},
   "outputs": [
    {
     "data": {
      "text/plain": [
       "Text(0, 0.5, 'Gender Frequency')"
      ]
     },
     "execution_count": 15,
     "metadata": {},
     "output_type": "execute_result"
    },
    {
     "data": {
      "image/png": "[encoded data removed]",
      "text/plain": [
       "<Figure size 432x288 with 1 Axes>"
      ]
     },
     "metadata": {
      "needs_background": "light"
     },
     "output_type": "display_data"
    }
   ],
   "source": [
    "Gender_Male = df[df['Gender'] == 'Male']\n",
    "Gender_Female = df[df['Gender'] == 'Female']\n",
    "LoanAmount_Gender,bins,label = plt.hist([Gender_Male['bin_loanamount'], Gender_Female['bin_loanamount']], bins = 2, label=['Gender = Male', 'Gender = Female'])\n",
    "plt.legend(loc='upper right')\n",
    "plt.xlabel('Loan Amount')\n",
    "plt.xticks(bins)\n",
    "plt.ylabel('Gender Frequency')"
   ]
  },
  {
   "cell_type": "code",
   "execution_count": 16,
   "metadata": {},
   "outputs": [
    {
     "data": {
      "text/plain": [
       "array([[446.,  24.],\n",
       "       [106.,   3.]])"
      ]
     },
     "execution_count": 16,
     "metadata": {},
     "output_type": "execute_result"
    }
   ],
   "source": [
    "LoanAmount_Gender"
   ]
  },
  {
   "cell_type": "markdown",
   "metadata": {},
   "source": [
    "#### 2.3.2 & 2.4.2) Protected Variable: Gender - Dependent Variable: Loan Status"
   ]
  },
  {
   "cell_type": "markdown",
   "metadata": {},
   "source": [
    "| Protected Class Variable | Frequency |\n",
    "| ----------- | ----------- |\n",
    "| **Gender - Male** | LoanStatus - Yes: 330|\n",
    "|               | LoanStatus - No: 140|\n",
    "| **Gender - Female**  | LoanStatus - Yes: 73|\n",
    "|               | LoanStatus - No: 36|"
   ]
  },
  {
   "cell_type": "code",
   "execution_count": 17,
   "metadata": {},
   "outputs": [
    {
     "data": {
      "text/plain": [
       "Text(0, 0.5, 'Gender Frequency')"
      ]
     },
     "execution_count": 17,
     "metadata": {},
     "output_type": "execute_result"
    },
    {
     "data": {
      "image/png": "[encoded data removed]",
      "text/plain": [
       "<Figure size 432x288 with 1 Axes>"
      ]
     },
     "metadata": {
      "needs_background": "light"
     },
     "output_type": "display_data"
    }
   ],
   "source": [
    "Gender_Male = df[df['Gender'] == 'Male']\n",
    "Gender_Female = df[df['Gender'] == 'Female']\n",
    "LoanStatus_Gender,bins,label = plt.hist([Gender_Male['LoanStatus_num'], Gender_Female['LoanStatus_num']], bins = 2, label=['Gender = Male', 'Gender = Female'])\n",
    "plt.legend(loc='upper right')\n",
    "plt.xlabel('Loan Status')\n",
    "plt.xticks(bins)\n",
    "plt.ylabel('Gender Frequency')"
   ]
  },
  {
   "cell_type": "code",
   "execution_count": 18,
   "metadata": {},
   "outputs": [
    {
     "data": {
      "text/plain": [
       "array([[140., 330.],\n",
       "       [ 36.,  73.]])"
      ]
     },
     "execution_count": 18,
     "metadata": {},
     "output_type": "execute_result"
    }
   ],
   "source": [
    "LoanStatus_Gender"
   ]
  },
  {
   "cell_type": "markdown",
   "metadata": {},
   "source": [
    "#### 2.3.3 & 2.4.3) Protected Variable: Married - Dependent Variable: Loan Amount"
   ]
  },
  {
   "cell_type": "markdown",
   "metadata": {},
   "source": [
    "| Protected Class Variable | Fequency |\n",
    "| ----------- | ----------- |\n",
    "| **Married - Yes** | **Frequency of Married** |\n",
    "|               | LoanAmount <=300: 362 |\n",
    "|               | LoanAmount >300: 22 |\n",
    "| **Married - No** | **Frequency of Unmarried** |\n",
    "|               | LoanAmount <=300: 199 |\n",
    "|               | LoanAmount >300: 7 |"
   ]
  },
  {
   "cell_type": "code",
   "execution_count": 19,
   "metadata": {},
   "outputs": [
    {
     "data": {
      "text/plain": [
       "Text(0, 0.5, 'Married Frequency')"
      ]
     },
     "execution_count": 19,
     "metadata": {},
     "output_type": "execute_result"
    },
    {
     "data": {
      "image/png": "[encoded data removed]",
      "text/plain": [
       "<Figure size 432x288 with 1 Axes>"
      ]
     },
     "metadata": {
      "needs_background": "light"
     },
     "output_type": "display_data"
    }
   ],
   "source": [
    "Married_Yes = df[df['Married'] == 'Yes']\n",
    "Married_No = df[df['Married'] == 'No']\n",
    "LoanAmount_MaritalStatus,bins,label = plt.hist([Married_Yes['bin_loanamount'], Married_No['bin_loanamount']], bins = 2, label=['Married = Yes', 'Married = No'])\n",
    "plt.legend(loc='upper right')\n",
    "plt.xlabel('Loan Amount')\n",
    "plt.xticks(bins)\n",
    "plt.ylabel('Married Frequency')"
   ]
  },
  {
   "cell_type": "code",
   "execution_count": 20,
   "metadata": {},
   "outputs": [
    {
     "data": {
      "text/plain": [
       "array([[362.,  22.],\n",
       "       [199.,   7.]])"
      ]
     },
     "execution_count": 20,
     "metadata": {},
     "output_type": "execute_result"
    }
   ],
   "source": [
    "LoanAmount_MaritalStatus"
   ]
  },
  {
   "cell_type": "markdown",
   "metadata": {},
   "source": [
    "#### 2.3.4 & 2.4.4) Protected Variable: Married - Dependent Variable: Loan Status"
   ]
  },
  {
   "cell_type": "markdown",
   "metadata": {},
   "source": [
    "| Protected Class Variable | Frequency |\n",
    "| ----------- | ----------- |\n",
    "| **Married - Yes** | LoanStatus - Yes: 278|\n",
    "|               | LoanStatus - No: 106|\n",
    "| **Married - No**  | LoanStatus - Yes: 131|\n",
    "|               | LoanStatus - No: 75|"
   ]
  },
  {
   "cell_type": "code",
   "execution_count": 21,
   "metadata": {},
   "outputs": [
    {
     "data": {
      "text/plain": [
       "Text(0, 0.5, 'Married Frequency')"
      ]
     },
     "execution_count": 21,
     "metadata": {},
     "output_type": "execute_result"
    },
    {
     "data": {
      "image/png": "[encoded data removed]",
      "text/plain": [
       "<Figure size 432x288 with 1 Axes>"
      ]
     },
     "metadata": {
      "needs_background": "light"
     },
     "output_type": "display_data"
    }
   ],
   "source": [
    "Married_Yes = df[df['Married'] == 'Yes']\n",
    "Married_No = df[df['Married'] == 'No']\n",
    "LoanStatus_MaritalStatus,bins,label = plt.hist([Married_Yes['LoanStatus_num'], Married_No['LoanStatus_num']], bins = 2, label=['Married = Yes', 'Married = No'])\n",
    "plt.legend(loc='upper right')\n",
    "plt.xlabel('Loan Status')\n",
    "plt.xticks(bins)\n",
    "plt.ylabel('Married Frequency')"
   ]
  },
  {
   "cell_type": "code",
   "execution_count": 22,
   "metadata": {},
   "outputs": [
    {
     "data": {
      "text/plain": [
       "array([[106., 278.],\n",
       "       [ 75., 131.]])"
      ]
     },
     "execution_count": 22,
     "metadata": {},
     "output_type": "execute_result"
    }
   ],
   "source": [
    "LoanStatus_MaritalStatus"
   ]
  },
  {
   "cell_type": "markdown",
   "metadata": {},
   "source": [
    "# Step 3"
   ]
  },
  {
   "cell_type": "markdown",
   "metadata": {},
   "source": [
    "#### 3.1) Based on your dataset, identify the privileged/unprivileged groups associated with each of your protected class variables "
   ]
  },
  {
   "cell_type": "markdown",
   "metadata": {},
   "source": [
    "**Protected Class Variable: Gender** \n",
    "1. Privileged - Male \n",
    "2. Unprivileged - Female\n",
    "\n",
    "**Protected Class Variable: Familial Status/Married** \n",
    "1. Privileged - Married (Married = Y)\n",
    "2. Unprivileged - Unmarried (Married = N)\n",
    "\n"
   ]
  },
  {
   "cell_type": "markdown",
   "metadata": {},
   "source": [
    "#### 3.2) For each protected class variable, select two fairness metrics and compute the fairness metrics associated with your privileged/unprivileged groups as a function of each of your two dependent variables.  You may choose any reasonable threshold in order to generate a baseline for comparison using the fairness metrics.  "
   ]
  },
  {
   "cell_type": "markdown",
   "metadata": {},
   "source": [
    "Two fairness metrics selected include:\n",
    "1. Disparate Impact \n",
    "2. Statistical Parity "
   ]
  },
  {
   "cell_type": "markdown",
   "metadata": {},
   "source": [
    "Below, you will find 8 plots: \n",
    "1. Gender <> Disparate Impact <> Loan Status \n",
    "2. Gender <> Disparate Impact <> Loan Amount \n",
    "3. Gender <> Statistical Parity <> Loan Status \n",
    "4. Gender <> Statistical Parity <> Loan Amount \n",
    "5. Familial Status <> Disparate Impact <> Loan Status \n",
    "6. Familial Status <> Disparate Impact <> Loan Amount \n",
    "7. Familial Status <> Statistical Parity <> Loan Status \n",
    "8. Familial Status <> Statistical Parity <> Loan Amount \n",
    "\n",
    "\n"
   ]
  },
  {
   "cell_type": "markdown",
   "metadata": {},
   "source": [
    "#### Gender and Disparate Impact Metric"
   ]
  },
  {
   "cell_type": "code",
   "execution_count": 23,
   "metadata": {},
   "outputs": [
    {
     "name": "stdout",
     "output_type": "stream",
     "text": [
      "Num of privileged gender = 470\n",
      "Num of unprivileged gender = 109\n"
     ]
    }
   ],
   "source": [
    "gender_m_df = df[df['Gender']=='Male']\n",
    "privileged_gen = gender_m_df.shape[0]\n",
    "print(\"Num of privileged gender = \" + str(privileged_gen))\n",
    "\n",
    "gender_f_df = df[df['Gender']=='Female']\n",
    "unprivileged_gen = gender_f_df.shape[0]\n",
    "print(\"Num of unprivileged gender = \" + str(unprivileged_gen))"
   ]
  },
  {
   "cell_type": "code",
   "execution_count": 24,
   "metadata": {},
   "outputs": [
    {
     "data": {
      "text/plain": [
       "0.6697247706422018"
      ]
     },
     "execution_count": 24,
     "metadata": {},
     "output_type": "execute_result"
    }
   ],
   "source": [
    "unpriv_outcomes_Gen_LS = gender_f_df[gender_f_df['Loan_Status'] == 'Y'].shape[0]\n",
    "unpriv_ratio_Gen_LS = unpriv_outcomes_Gen_LS/unprivileged_gen\n",
    "unpriv_ratio_Gen_LS"
   ]
  },
  {
   "cell_type": "code",
   "execution_count": 25,
   "metadata": {},
   "outputs": [
    {
     "data": {
      "text/plain": [
       "0.027522935779816515"
      ]
     },
     "execution_count": 25,
     "metadata": {},
     "output_type": "execute_result"
    }
   ],
   "source": [
    "unpriv_outcomes_Gen_LA = gender_f_df[gender_f_df['bin_loanamount'] == 1].shape[0]\n",
    "unpriv_ratio_Gen_LA = unpriv_outcomes_Gen_LA/unprivileged_gen\n",
    "unpriv_ratio_Gen_LA"
   ]
  },
  {
   "cell_type": "code",
   "execution_count": 26,
   "metadata": {},
   "outputs": [
    {
     "data": {
      "text/plain": [
       "0.7021276595744681"
      ]
     },
     "execution_count": 26,
     "metadata": {},
     "output_type": "execute_result"
    }
   ],
   "source": [
    "priv_outcomes_Gen_LS = gender_m_df[gender_m_df['Loan_Status'] == 'Y'].shape[0]\n",
    "priv_ratio_Gen_LS = priv_outcomes_Gen_LS/privileged_gen\n",
    "priv_ratio_Gen_LS"
   ]
  },
  {
   "cell_type": "code",
   "execution_count": 27,
   "metadata": {},
   "outputs": [
    {
     "data": {
      "text/plain": [
       "0.05106382978723404"
      ]
     },
     "execution_count": 27,
     "metadata": {},
     "output_type": "execute_result"
    }
   ],
   "source": [
    "priv_outcomes_Gen_LA = gender_m_df[gender_m_df['bin_loanamount'] == 1].shape[0]\n",
    "priv_ratio_Gen_LA = priv_outcomes_Gen_LA/privileged_gen\n",
    "priv_ratio_Gen_LA"
   ]
  },
  {
   "cell_type": "code",
   "execution_count": 28,
   "metadata": {},
   "outputs": [
    {
     "name": "stdout",
     "output_type": "stream",
     "text": [
      "Disparate Impact for gender against Loan Status (Original Dataset):  0.953850430914651\n"
     ]
    }
   ],
   "source": [
    "disparate_impact_Gen_LS = unpriv_ratio_Gen_LS/priv_ratio_Gen_LS\n",
    "print(\"Disparate Impact for gender against Loan Status (Original Dataset): \", disparate_impact_Gen_LS)"
   ]
  },
  {
   "cell_type": "code",
   "execution_count": 29,
   "metadata": {},
   "outputs": [
    {
     "name": "stdout",
     "output_type": "stream",
     "text": [
      "Disparate Impact for gender against Loan Amount (Original Dataset):  0.5389908256880734\n"
     ]
    }
   ],
   "source": [
    "disparate_impact_Gen_LA = unpriv_ratio_Gen_LA/priv_ratio_Gen_LA\n",
    "print(\"Disparate Impact for gender against Loan Amount (Original Dataset): \", disparate_impact_Gen_LA)"
   ]
  },
  {
   "cell_type": "code",
   "execution_count": 30,
   "metadata": {},
   "outputs": [
    {
     "data": {
      "image/png": "[encoded data removed]",
      "text/plain": [
       "<Figure size 720x360 with 1 Axes>"
      ]
     },
     "metadata": {
      "needs_background": "light"
     },
     "output_type": "display_data"
    }
   ],
   "source": [
    "#Disparate Impact for gender against Loan Status (Original Dataset):  0.953850430914651\n",
    "# creating the dataset\n",
    "data = {'Disparate Impact':0.95385}\n",
    "metric = list(data.keys())\n",
    "value = list(data.values())\n",
    "  \n",
    "fig = plt.figure(figsize = (10, 5))\n",
    " \n",
    "# creating the bar plot\n",
    "plt.bar(metric, value, width = 0.3)\n",
    " \n",
    "#plt.xlabel(\"Disparate Impact\")\n",
    "plt.ylim([-2, 2])\n",
    "plt.xlim([-1, 1])\n",
    "plt.ylabel(\"Value\")\n",
    "plt.axhline(1, color = 'gray', linestyle = 'dotted')\n",
    "plt.axhline(0, color = 'gray')\n",
    "plt.axhline(-1, color = 'gray', linestyle = 'dotted')\n",
    "plt.title(\"Fairness Metric - Disparate Impact for Protected Class Variable: Gender against Loan Status\")\n",
    "plt.show()"
   ]
  },
  {
   "cell_type": "code",
   "execution_count": 31,
   "metadata": {},
   "outputs": [
    {
     "data": {
      "image/png": "[encoded data removed]",
      "text/plain": [
       "<Figure size 720x360 with 1 Axes>"
      ]
     },
     "metadata": {
      "needs_background": "light"
     },
     "output_type": "display_data"
    }
   ],
   "source": [
    "#Disparate Impact for gender against Loan Amount (Original Dataset):  0.5389908256880734\n",
    "# creating the dataset\n",
    "data = {'Disparate Impact':0.53899}\n",
    "metric = list(data.keys())\n",
    "value = list(data.values())\n",
    "  \n",
    "fig = plt.figure(figsize = (10, 5))\n",
    " \n",
    "# creating the bar plot\n",
    "plt.bar(metric, value, width = 0.3)\n",
    " \n",
    "#plt.xlabel(\"Disparate Impact\")\n",
    "plt.ylim([-2, 2])\n",
    "plt.xlim([-1, 1])\n",
    "plt.ylabel(\"Value\")\n",
    "plt.axhline(1, color = 'gray', linestyle = 'dotted')\n",
    "plt.axhline(0, color = 'gray')\n",
    "plt.axhline(-1, color = 'gray', linestyle = 'dotted')\n",
    "plt.title(\"Fairness Metric - Disparate Impact for Protected Class Variable: Gender against Loan Amount\")\n",
    "plt.show()"
   ]
  },
  {
   "cell_type": "markdown",
   "metadata": {},
   "source": [
    "#### Gender and Statistical Parity Metric"
   ]
  },
  {
   "cell_type": "code",
   "execution_count": 32,
   "metadata": {},
   "outputs": [
    {
     "name": "stdout",
     "output_type": "stream",
     "text": [
      "Statistical Parity for gender against Loan Status (Original Dataset):  -0.03240288893226628\n"
     ]
    }
   ],
   "source": [
    "statistical_parity_Gen_LS = unpriv_ratio_Gen_LS - priv_ratio_Gen_LS\n",
    "print(\"Statistical Parity for gender against Loan Status (Original Dataset): \", statistical_parity_Gen_LS)"
   ]
  },
  {
   "cell_type": "code",
   "execution_count": 33,
   "metadata": {},
   "outputs": [
    {
     "name": "stdout",
     "output_type": "stream",
     "text": [
      "Statistical Parity for gender against Loan Amount (Original Dataset):  -0.023540894007417525\n"
     ]
    }
   ],
   "source": [
    "statistical_parity_Gen_LA = unpriv_ratio_Gen_LA - priv_ratio_Gen_LA\n",
    "print(\"Statistical Parity for gender against Loan Amount (Original Dataset): \", statistical_parity_Gen_LA)"
   ]
  },
  {
   "cell_type": "code",
   "execution_count": 34,
   "metadata": {},
   "outputs": [
    {
     "data": {
      "image/png": "[encoded data removed]",
      "text/plain": [
       "<Figure size 720x360 with 1 Axes>"
      ]
     },
     "metadata": {
      "needs_background": "light"
     },
     "output_type": "display_data"
    }
   ],
   "source": [
    "#Statistical Parity for gender against Loan Status (Original Dataset):  -0.03240288893226628\n",
    "# creating the dataset\n",
    "data = {'Demographic Parity Difference':-0.032402}\n",
    "metric = list(data.keys())\n",
    "value = list(data.values())\n",
    "  \n",
    "fig = plt.figure(figsize = (10, 5))\n",
    "     \n",
    "# creating the bar plot\n",
    "plt.bar(metric, value, width = 0.3)\n",
    " \n",
    "#plt.xlabel(\"Disparate Impact\")\n",
    "plt.ylim([-1.2, 1.2])\n",
    "plt.xlim([-1, 1])\n",
    "plt.ylabel(\"Value\")\n",
    "plt.axhline(1, color = 'gray', linestyle = 'dotted')\n",
    "plt.axhline(0, color = 'gray')\n",
    "plt.axhline(-1, color = 'gray', linestyle = 'dotted')\n",
    "plt.title(\"Fairness Metric - Statistical Parity Difference for Protected Variable: Gender against Loan Status\")\n",
    "plt.show()"
   ]
  },
  {
   "cell_type": "code",
   "execution_count": 35,
   "metadata": {},
   "outputs": [
    {
     "data": {
      "image/png": "[encoded data removed]",
      "text/plain": [
       "<Figure size 720x360 with 1 Axes>"
      ]
     },
     "metadata": {
      "needs_background": "light"
     },
     "output_type": "display_data"
    }
   ],
   "source": [
    "#Statistical Parity for gender against Loan Amount (Original Dataset):  -0.023540894007417525\n",
    "# creating the dataset\n",
    "data = {'Demographic Parity Difference':-0.02354}\n",
    "metric = list(data.keys())\n",
    "value = list(data.values())\n",
    "  \n",
    "fig = plt.figure(figsize = (10, 5))\n",
    "     \n",
    "# creating the bar plot\n",
    "plt.bar(metric, value, width = 0.3)\n",
    " \n",
    "#plt.xlabel(\"Disparate Impact\")\n",
    "plt.ylim([-1.2, 1.2])\n",
    "plt.xlim([-1, 1])\n",
    "plt.ylabel(\"Value\")\n",
    "plt.axhline(1, color = 'gray', linestyle = 'dotted')\n",
    "plt.axhline(0, color = 'gray')\n",
    "plt.axhline(-1, color = 'gray', linestyle = 'dotted')\n",
    "plt.title(\"Fairness Metric - Statistical Parity Difference for Protected Variable: Gender against Loan Amount\")\n",
    "plt.show()"
   ]
  },
  {
   "cell_type": "markdown",
   "metadata": {},
   "source": [
    "#### Familial Status (Married/Unmarried) and Disparate Impact Metric"
   ]
  },
  {
   "cell_type": "code",
   "execution_count": 36,
   "metadata": {},
   "outputs": [
    {
     "name": "stdout",
     "output_type": "stream",
     "text": [
      "Num of privileged - married = 384\n",
      "Num of unprivileged - unmarried = 206\n"
     ]
    }
   ],
   "source": [
    "married_df = df[df['Married']=='Yes']\n",
    "married_priv = married_df.shape[0]\n",
    "print(\"Num of privileged - married = \" + str(married_priv))\n",
    "\n",
    "umarried_df = df[df['Married']=='No']\n",
    "unmarried_unpriv = umarried_df.shape[0]\n",
    "print(\"Num of unprivileged - unmarried = \" + str(unmarried_unpriv))"
   ]
  },
  {
   "cell_type": "code",
   "execution_count": 37,
   "metadata": {},
   "outputs": [
    {
     "data": {
      "text/plain": [
       "0.6359223300970874"
      ]
     },
     "execution_count": 37,
     "metadata": {},
     "output_type": "execute_result"
    }
   ],
   "source": [
    "unmarried_outcomes_LS = umarried_df[umarried_df['Loan_Status'] == 'Y'].shape[0]\n",
    "unpriv_married_ratio_LS = unmarried_outcomes_LS/unmarried_unpriv\n",
    "unpriv_married_ratio_LS"
   ]
  },
  {
   "cell_type": "code",
   "execution_count": 38,
   "metadata": {},
   "outputs": [
    {
     "data": {
      "text/plain": [
       "0.03398058252427184"
      ]
     },
     "execution_count": 38,
     "metadata": {},
     "output_type": "execute_result"
    }
   ],
   "source": [
    "unmarried_outcomes_LA = umarried_df[umarried_df['bin_loanamount'] == 1].shape[0]\n",
    "unpriv_married_ratio_LA = unmarried_outcomes_LA/unmarried_unpriv\n",
    "unpriv_married_ratio_LA"
   ]
  },
  {
   "cell_type": "code",
   "execution_count": 39,
   "metadata": {},
   "outputs": [
    {
     "data": {
      "text/plain": [
       "0.7239583333333334"
      ]
     },
     "execution_count": 39,
     "metadata": {},
     "output_type": "execute_result"
    }
   ],
   "source": [
    "married_outcomes_LS = married_df[married_df['Loan_Status'] == 'Y'].shape[0]\n",
    "priv_married_ratio_LS = married_outcomes_LS/married_priv\n",
    "priv_married_ratio_LS"
   ]
  },
  {
   "cell_type": "code",
   "execution_count": 40,
   "metadata": {},
   "outputs": [
    {
     "data": {
      "text/plain": [
       "0.057291666666666664"
      ]
     },
     "execution_count": 40,
     "metadata": {},
     "output_type": "execute_result"
    }
   ],
   "source": [
    "married_outcomes_LA = married_df[married_df['bin_loanamount'] == 1].shape[0]\n",
    "priv_married_ratio_LA = married_outcomes_LA/married_priv\n",
    "priv_married_ratio_LA"
   ]
  },
  {
   "cell_type": "code",
   "execution_count": 41,
   "metadata": {},
   "outputs": [
    {
     "name": "stdout",
     "output_type": "stream",
     "text": [
      "Disparate Impact for Marriage against Loan Status (Original Dataset):  0.8783963120765523\n"
     ]
    }
   ],
   "source": [
    "disparate_impact_married_LS = unpriv_married_ratio_LS/priv_married_ratio_LS\n",
    "print(\"Disparate Impact for Marriage against Loan Status (Original Dataset): \", disparate_impact_married_LS)"
   ]
  },
  {
   "cell_type": "code",
   "execution_count": 42,
   "metadata": {},
   "outputs": [
    {
     "name": "stdout",
     "output_type": "stream",
     "text": [
      "Disparate Impact for Marriage against Loan Amount (Original Dataset):  0.5931156222418358\n"
     ]
    }
   ],
   "source": [
    "disparate_impact_married_LA = unpriv_married_ratio_LA/priv_married_ratio_LA\n",
    "print(\"Disparate Impact for Marriage against Loan Amount (Original Dataset): \", disparate_impact_married_LA)"
   ]
  },
  {
   "cell_type": "code",
   "execution_count": 43,
   "metadata": {},
   "outputs": [
    {
     "data": {
      "image/png": "[encoded data removed]",
      "text/plain": [
       "<Figure size 720x360 with 1 Axes>"
      ]
     },
     "metadata": {
      "needs_background": "light"
     },
     "output_type": "display_data"
    }
   ],
   "source": [
    "#Disparate Impact for Marriage against Loan Status (Original Dataset):  0.8783963120765523\n",
    "# creating the dataset\n",
    "data = {'Disparate Impact':0.87839}\n",
    "metric = list(data.keys())\n",
    "value = list(data.values())\n",
    "  \n",
    "fig = plt.figure(figsize = (10, 5))\n",
    " \n",
    "# creating the bar plot\n",
    "plt.bar(metric, value, width = 0.3)\n",
    " \n",
    "#plt.xlabel(\"Disparate Impact\")\n",
    "plt.ylim([-2, 2])\n",
    "plt.xlim([-1, 1])\n",
    "plt.ylabel(\"Value\")\n",
    "plt.axhline(1, color = 'gray', linestyle = 'dotted')\n",
    "plt.axhline(0, color = 'gray')\n",
    "plt.axhline(-1, color = 'gray', linestyle = 'dotted')\n",
    "plt.title(\"Fairness Metric - Disparate Impact for Protected Class Variable: Familial Status (Married) against Loan Status\")\n",
    "plt.show()"
   ]
  },
  {
   "cell_type": "code",
   "execution_count": 44,
   "metadata": {},
   "outputs": [
    {
     "data": {
      "image/png": "[encoded data removed]",
      "text/plain": [
       "<Figure size 720x360 with 1 Axes>"
      ]
     },
     "metadata": {
      "needs_background": "light"
     },
     "output_type": "display_data"
    }
   ],
   "source": [
    "#Disparate Impact for Marriage against Loan Amount (Original Dataset):  0.5931156222418358\n",
    "# creating the dataset\n",
    "data = {'Disparate Impact':0.593115}\n",
    "metric = list(data.keys())\n",
    "value = list(data.values())\n",
    "  \n",
    "fig = plt.figure(figsize = (10, 5))\n",
    " \n",
    "# creating the bar plot\n",
    "plt.bar(metric, value, width = 0.3)\n",
    " \n",
    "#plt.xlabel(\"Disparate Impact\")\n",
    "plt.ylim([-2, 2])\n",
    "plt.xlim([-1, 1])\n",
    "plt.ylabel(\"Value\")\n",
    "plt.axhline(1, color = 'gray', linestyle = 'dotted')\n",
    "plt.axhline(0, color = 'gray')\n",
    "plt.axhline(-1, color = 'gray', linestyle = 'dotted')\n",
    "plt.title(\"Fairness Metric - Disparate Impact for Protected Class Variable: Familial Status (Married) against Loan Amount\")\n",
    "plt.show()"
   ]
  },
  {
   "cell_type": "markdown",
   "metadata": {},
   "source": [
    "#### Familial Status (Married) and Statistical Parity Metric"
   ]
  },
  {
   "cell_type": "code",
   "execution_count": 45,
   "metadata": {},
   "outputs": [
    {
     "name": "stdout",
     "output_type": "stream",
     "text": [
      "Statistical Parity difference for Marriage against Loan Status (Original Dataset):  -0.08803600323624594\n"
     ]
    }
   ],
   "source": [
    "statistical_parity_married_LS = unpriv_married_ratio_LS - priv_married_ratio_LS\n",
    "print(\"Statistical Parity difference for Marriage against Loan Status (Original Dataset): \", statistical_parity_married_LS)"
   ]
  },
  {
   "cell_type": "code",
   "execution_count": 46,
   "metadata": {},
   "outputs": [
    {
     "name": "stdout",
     "output_type": "stream",
     "text": [
      "Statistical Parity difference for Marriage against Loan Amount (Original Dataset):  -0.02331108414239482\n"
     ]
    }
   ],
   "source": [
    "statistical_parity_married_LA = unpriv_married_ratio_LA - priv_married_ratio_LA\n",
    "print(\"Statistical Parity difference for Marriage against Loan Amount (Original Dataset): \", statistical_parity_married_LA)"
   ]
  },
  {
   "cell_type": "code",
   "execution_count": 47,
   "metadata": {},
   "outputs": [
    {
     "data": {
      "image/png": "[encoded data removed]",
      "text/plain": [
       "<Figure size 720x360 with 1 Axes>"
      ]
     },
     "metadata": {
      "needs_background": "light"
     },
     "output_type": "display_data"
    }
   ],
   "source": [
    "#Statistical Parity difference for Marriage against Loan Status (Original Dataset):  -0.08803600323624594\n",
    "# creating the dataset\n",
    "data = {'Demographic Parity Difference':-0.08803}\n",
    "metric = list(data.keys())\n",
    "value = list(data.values())\n",
    "  \n",
    "fig = plt.figure(figsize = (10, 5))\n",
    " \n",
    "# creating the bar plot\n",
    "plt.bar(metric, value, width = 0.3)\n",
    " \n",
    "#plt.xlabel(\"Disparate Impact\")\n",
    "plt.ylim([-1.2, 1.2])\n",
    "plt.xlim([-1, 1])\n",
    "plt.ylabel(\"Value\")\n",
    "plt.axhline(1, color = 'gray', linestyle = 'dotted')\n",
    "plt.axhline(0, color = 'gray')\n",
    "plt.axhline(-1, color = 'gray', linestyle = 'dotted')\n",
    "plt.title(\"Fairness Metric - Statistical Parity Difference for Protected Variable: Familial Status (Married) against Loan Status\")\n",
    "plt.show()"
   ]
  },
  {
   "cell_type": "code",
   "execution_count": 48,
   "metadata": {},
   "outputs": [
    {
     "data": {
      "image/png": "[encoded data removed]",
      "text/plain": [
       "<Figure size 720x360 with 1 Axes>"
      ]
     },
     "metadata": {
      "needs_background": "light"
     },
     "output_type": "display_data"
    }
   ],
   "source": [
    "#Statistical Parity difference for Marriage against Loan Amount (Original Dataset):  -0.02331108414239482\n",
    "# creating the dataset\n",
    "data = {'Demographic Parity Difference':-0.023311}\n",
    "metric = list(data.keys())\n",
    "value = list(data.values())\n",
    "  \n",
    "fig = plt.figure(figsize = (10, 5))\n",
    " \n",
    "# creating the bar plot\n",
    "plt.bar(metric, value, width = 0.3)\n",
    " \n",
    "#plt.xlabel(\"Disparate Impact\")\n",
    "plt.ylim([-1.2, 1.2])\n",
    "plt.xlim([-1, 1])\n",
    "plt.ylabel(\"Value\")\n",
    "plt.axhline(1, color = 'gray', linestyle = 'dotted')\n",
    "plt.axhline(0, color = 'gray')\n",
    "plt.axhline(-1, color = 'gray', linestyle = 'dotted')\n",
    "plt.title(\"Fairness Metric - Statistical Parity Difference for Protected Variable: Familial Status (Married) against Loan Amount\")\n",
    "plt.show()"
   ]
  },
  {
   "cell_type": "markdown",
   "metadata": {},
   "source": [
    "#### 3.3) Select a pre-processing bias mitigation algorithm to transform the original dataset (e.g. Reweighting, Disparate Impact Remover, etc.) as a function of one of your dependent variables "
   ]
  },
  {
   "cell_type": "code",
   "execution_count": 49,
   "metadata": {},
   "outputs": [],
   "source": [
    "## Transform dataset using Diparate Impact Remover, for use in in Step 4.2.\n",
    "##re copy the df for transforming purposes\n",
    "dft = pd.read_csv(\"train_ctrUa4K.csv\")"
   ]
  },
  {
   "cell_type": "code",
   "execution_count": 50,
   "metadata": {},
   "outputs": [],
   "source": [
    "##drop nulls\n",
    "dft = dft.dropna(axis = 0)"
   ]
  },
  {
   "cell_type": "code",
   "execution_count": 51,
   "metadata": {},
   "outputs": [],
   "source": [
    "##convert to numerical outside of OHE (one hot encoding)\n",
    "dft['LoanStat'] = np.where(dft['Loan_Status'] == 'Y',1,0)\n",
    "dft['Gender'] = np.where(dft['Gender'] == 'Male',1,0)\n",
    "dft['Married'] = np.where(dft['Married'] == 'Yes',1,0)"
   ]
  },
  {
   "cell_type": "code",
   "execution_count": 52,
   "metadata": {},
   "outputs": [],
   "source": [
    "##drop irrelevant columns\n",
    "dft = dft.drop(['Loan_ID', 'Loan_Status'], axis=1)"
   ]
  },
  {
   "cell_type": "code",
   "execution_count": 53,
   "metadata": {},
   "outputs": [],
   "source": [
    "##convert One Hot Encoding\n",
    "categorical = ['Dependents','Education','Self_Employed','Property_Area']\n",
    "for feats in categorical:\n",
    "    dft= encoding(dft,feats)"
   ]
  },
  {
   "cell_type": "code",
   "execution_count": 54,
   "metadata": {},
   "outputs": [],
   "source": [
    "##create a binary label dataset from dft to feed disparate impact remover\n",
    "binaryLabelDataset = aif360.datasets.BinaryLabelDataset(\n",
    "    favorable_label=1,\n",
    "    unfavorable_label=0,\n",
    "    df=dft,\n",
    "    label_names=['LoanStat'],\n",
    "    protected_attribute_names=['Gender','Married'])"
   ]
  },
  {
   "cell_type": "code",
   "execution_count": 55,
   "metadata": {},
   "outputs": [],
   "source": [
    "##transform dataset using disparate impact remover from AIF360\n",
    "di = DisparateImpactRemover(repair_level = 1.0)\n",
    "dataset_transf_train = di.fit_transform(binaryLabelDataset)\n",
    "transformed = dataset_transf_train.convert_to_dataframe()[0]"
   ]
  },
  {
   "cell_type": "code",
   "execution_count": 56,
   "metadata": {},
   "outputs": [
    {
     "data": {
      "text/html": [
       "<div>\n",
       "<style scoped>\n",
       "    .dataframe tbody tr th:only-of-type {\n",
       "        vertical-align: middle;\n",
       "    }\n",
       "\n",
       "    .dataframe tbody tr th {\n",
       "        vertical-align: top;\n",
       "    }\n",
       "\n",
       "    .dataframe thead th {\n",
       "        text-align: right;\n",
       "    }\n",
       "</style>\n",
       "<table border=\"1\" class=\"dataframe\">\n",
       "  <thead>\n",
       "    <tr style=\"text-align: right;\">\n",
       "      <th></th>\n",
       "      <th>Gender</th>\n",
       "      <th>Married</th>\n",
       "      <th>ApplicantIncome</th>\n",
       "      <th>CoapplicantIncome</th>\n",
       "      <th>LoanAmount</th>\n",
       "      <th>Loan_Amount_Term</th>\n",
       "      <th>Credit_History</th>\n",
       "      <th>Dependents_0</th>\n",
       "      <th>Dependents_1</th>\n",
       "      <th>Dependents_2</th>\n",
       "      <th>Dependents_3+</th>\n",
       "      <th>Education_Graduate</th>\n",
       "      <th>Education_Not Graduate</th>\n",
       "      <th>Self_Employed_No</th>\n",
       "      <th>Self_Employed_Yes</th>\n",
       "      <th>Property_Area_Rural</th>\n",
       "      <th>Property_Area_Semiurban</th>\n",
       "      <th>Property_Area_Urban</th>\n",
       "      <th>LoanStat</th>\n",
       "    </tr>\n",
       "  </thead>\n",
       "  <tbody>\n",
       "    <tr>\n",
       "      <th>1</th>\n",
       "      <td>1.0</td>\n",
       "      <td>1.0</td>\n",
       "      <td>4160.0</td>\n",
       "      <td>1516.0</td>\n",
       "      <td>105.0</td>\n",
       "      <td>360.0</td>\n",
       "      <td>1.0</td>\n",
       "      <td>0.0</td>\n",
       "      <td>1.0</td>\n",
       "      <td>0.0</td>\n",
       "      <td>0.0</td>\n",
       "      <td>1.0</td>\n",
       "      <td>0.0</td>\n",
       "      <td>1.0</td>\n",
       "      <td>0.0</td>\n",
       "      <td>1.0</td>\n",
       "      <td>0.0</td>\n",
       "      <td>0.0</td>\n",
       "      <td>0.0</td>\n",
       "    </tr>\n",
       "    <tr>\n",
       "      <th>2</th>\n",
       "      <td>1.0</td>\n",
       "      <td>1.0</td>\n",
       "      <td>2645.0</td>\n",
       "      <td>0.0</td>\n",
       "      <td>53.0</td>\n",
       "      <td>360.0</td>\n",
       "      <td>1.0</td>\n",
       "      <td>1.0</td>\n",
       "      <td>0.0</td>\n",
       "      <td>0.0</td>\n",
       "      <td>0.0</td>\n",
       "      <td>1.0</td>\n",
       "      <td>0.0</td>\n",
       "      <td>0.0</td>\n",
       "      <td>1.0</td>\n",
       "      <td>0.0</td>\n",
       "      <td>0.0</td>\n",
       "      <td>1.0</td>\n",
       "      <td>1.0</td>\n",
       "    </tr>\n",
       "    <tr>\n",
       "      <th>3</th>\n",
       "      <td>1.0</td>\n",
       "      <td>1.0</td>\n",
       "      <td>2330.0</td>\n",
       "      <td>2302.0</td>\n",
       "      <td>100.0</td>\n",
       "      <td>360.0</td>\n",
       "      <td>1.0</td>\n",
       "      <td>1.0</td>\n",
       "      <td>0.0</td>\n",
       "      <td>0.0</td>\n",
       "      <td>0.0</td>\n",
       "      <td>0.0</td>\n",
       "      <td>1.0</td>\n",
       "      <td>1.0</td>\n",
       "      <td>0.0</td>\n",
       "      <td>0.0</td>\n",
       "      <td>0.0</td>\n",
       "      <td>1.0</td>\n",
       "      <td>1.0</td>\n",
       "    </tr>\n",
       "    <tr>\n",
       "      <th>4</th>\n",
       "      <td>1.0</td>\n",
       "      <td>0.0</td>\n",
       "      <td>4666.0</td>\n",
       "      <td>0.0</td>\n",
       "      <td>112.0</td>\n",
       "      <td>360.0</td>\n",
       "      <td>1.0</td>\n",
       "      <td>1.0</td>\n",
       "      <td>0.0</td>\n",
       "      <td>0.0</td>\n",
       "      <td>0.0</td>\n",
       "      <td>1.0</td>\n",
       "      <td>0.0</td>\n",
       "      <td>1.0</td>\n",
       "      <td>0.0</td>\n",
       "      <td>0.0</td>\n",
       "      <td>0.0</td>\n",
       "      <td>1.0</td>\n",
       "      <td>1.0</td>\n",
       "    </tr>\n",
       "    <tr>\n",
       "      <th>5</th>\n",
       "      <td>1.0</td>\n",
       "      <td>1.0</td>\n",
       "      <td>4408.0</td>\n",
       "      <td>3440.0</td>\n",
       "      <td>194.0</td>\n",
       "      <td>360.0</td>\n",
       "      <td>1.0</td>\n",
       "      <td>0.0</td>\n",
       "      <td>0.0</td>\n",
       "      <td>1.0</td>\n",
       "      <td>0.0</td>\n",
       "      <td>1.0</td>\n",
       "      <td>0.0</td>\n",
       "      <td>0.0</td>\n",
       "      <td>1.0</td>\n",
       "      <td>0.0</td>\n",
       "      <td>0.0</td>\n",
       "      <td>1.0</td>\n",
       "      <td>1.0</td>\n",
       "    </tr>\n",
       "  </tbody>\n",
       "</table>\n",
       "</div>"
      ],
      "text/plain": [
       "   Gender  Married  ApplicantIncome  CoapplicantIncome  LoanAmount  \\\n",
       "1     1.0      1.0           4160.0             1516.0       105.0   \n",
       "2     1.0      1.0           2645.0                0.0        53.0   \n",
       "3     1.0      1.0           2330.0             2302.0       100.0   \n",
       "4     1.0      0.0           4666.0                0.0       112.0   \n",
       "5     1.0      1.0           4408.0             3440.0       194.0   \n",
       "\n",
       "   Loan_Amount_Term  Credit_History  Dependents_0  Dependents_1  Dependents_2  \\\n",
       "1             360.0             1.0           0.0           1.0           0.0   \n",
       "2             360.0             1.0           1.0           0.0           0.0   \n",
       "3             360.0             1.0           1.0           0.0           0.0   \n",
       "4             360.0             1.0           1.0           0.0           0.0   \n",
       "5             360.0             1.0           0.0           0.0           1.0   \n",
       "\n",
       "   Dependents_3+  Education_Graduate  Education_Not Graduate  \\\n",
       "1            0.0                 1.0                     0.0   \n",
       "2            0.0                 1.0                     0.0   \n",
       "3            0.0                 0.0                     1.0   \n",
       "4            0.0                 1.0                     0.0   \n",
       "5            0.0                 1.0                     0.0   \n",
       "\n",
       "   Self_Employed_No  Self_Employed_Yes  Property_Area_Rural  \\\n",
       "1               1.0                0.0                  1.0   \n",
       "2               0.0                1.0                  0.0   \n",
       "3               1.0                0.0                  0.0   \n",
       "4               1.0                0.0                  0.0   \n",
       "5               0.0                1.0                  0.0   \n",
       "\n",
       "   Property_Area_Semiurban  Property_Area_Urban  LoanStat  \n",
       "1                      0.0                  0.0       0.0  \n",
       "2                      0.0                  1.0       1.0  \n",
       "3                      0.0                  1.0       1.0  \n",
       "4                      0.0                  1.0       1.0  \n",
       "5                      0.0                  1.0       1.0  "
      ]
     },
     "execution_count": 56,
     "metadata": {},
     "output_type": "execute_result"
    }
   ],
   "source": [
    "transformed.head()"
   ]
  },
  {
   "cell_type": "markdown",
   "metadata": {},
   "source": [
    "#### 3.4) Use the two fairness metrics identified in 3.2 and compute the fairness metrics on the transformed dataset \n"
   ]
  },
  {
   "cell_type": "code",
   "execution_count": 57,
   "metadata": {},
   "outputs": [],
   "source": [
    "dft = transformed"
   ]
  },
  {
   "cell_type": "markdown",
   "metadata": {},
   "source": [
    "#### Disparate Impact & Statistical Parity on transformed dataset for Gender"
   ]
  },
  {
   "cell_type": "code",
   "execution_count": 58,
   "metadata": {},
   "outputs": [],
   "source": [
    "##Need to do these steps but with the transformed dataset\n",
    "#3.4 Disparate Impact & Statistical Parity on transformed dataset (NEED TO RE-NAME VARIABLES)\n",
    "gender_m_dft = dft[dft['Gender']==1]\n",
    "tprivileged = gender_m_dft.shape[0]\n",
    "gender_f_dft = dft[dft['Gender']==1]\n",
    "tunprivileged = gender_f_dft.shape[0]"
   ]
  },
  {
   "cell_type": "code",
   "execution_count": 59,
   "metadata": {},
   "outputs": [
    {
     "data": {
      "text/plain": [
       "0.7055837563451777"
      ]
     },
     "execution_count": 59,
     "metadata": {},
     "output_type": "execute_result"
    }
   ],
   "source": [
    "t_unpriv_outcomes = gender_f_dft[gender_f_dft['LoanStat'] == 1].shape[0]\n",
    "t_unpriv_ratio = t_unpriv_outcomes/tunprivileged\n",
    "t_unpriv_ratio"
   ]
  },
  {
   "cell_type": "code",
   "execution_count": 60,
   "metadata": {},
   "outputs": [
    {
     "data": {
      "text/plain": [
       "0.5914893617021276"
      ]
     },
     "execution_count": 60,
     "metadata": {},
     "output_type": "execute_result"
    }
   ],
   "source": [
    "t_priv_outcomes = gender_m_dft[gender_m_dft['LoanStat'] == 1].shape[0]\n",
    "t_priv_ratio = t_priv_outcomes/privileged_gen\n",
    "t_priv_ratio"
   ]
  },
  {
   "cell_type": "code",
   "execution_count": 61,
   "metadata": {},
   "outputs": [
    {
     "name": "stdout",
     "output_type": "stream",
     "text": [
      "Disparate Impact for gender against Loan Status on Transformed Dataset:  1.1928934010152286\n"
     ]
    }
   ],
   "source": [
    "t_disparate_impact = t_unpriv_ratio/t_priv_ratio\n",
    "print(\"Disparate Impact for gender against Loan Status on Transformed Dataset: \", t_disparate_impact)"
   ]
  },
  {
   "cell_type": "code",
   "execution_count": 62,
   "metadata": {},
   "outputs": [
    {
     "name": "stdout",
     "output_type": "stream",
     "text": [
      "Statistical Parity for gender against Loan Status on Transformed Dataset:  0.11409439464305005\n"
     ]
    }
   ],
   "source": [
    "##Statistical Parity\n",
    "t_statistical_parity = t_unpriv_ratio - t_priv_ratio\n",
    "print(\"Statistical Parity for gender against Loan Status on Transformed Dataset: \", t_statistical_parity)"
   ]
  },
  {
   "cell_type": "markdown",
   "metadata": {},
   "source": [
    "#### Disparate Impact & Statistical Parity on transformed dataset for Marriage"
   ]
  },
  {
   "cell_type": "code",
   "execution_count": 63,
   "metadata": {},
   "outputs": [],
   "source": [
    "married_dft = dft[dft['Married']==1]\n",
    "tmarried_priv = married_dft.shape[0]\n",
    "unmarried_dft = dft[dft['Married']==0]\n",
    "tunmarried_unpriv = unmarried_dft.shape[0]"
   ]
  },
  {
   "cell_type": "code",
   "execution_count": 64,
   "metadata": {},
   "outputs": [
    {
     "data": {
      "text/plain": [
       "0.621301775147929"
      ]
     },
     "execution_count": 64,
     "metadata": {},
     "output_type": "execute_result"
    }
   ],
   "source": [
    "t_unmarried_outcomes = unmarried_dft[unmarried_dft['LoanStat'] == 1].shape[0]\n",
    "t_unpriv_married_ratio = t_unmarried_outcomes/tunmarried_unpriv\n",
    "t_unpriv_married_ratio"
   ]
  },
  {
   "cell_type": "code",
   "execution_count": 65,
   "metadata": {},
   "outputs": [
    {
     "data": {
      "text/plain": [
       "0.729903536977492"
      ]
     },
     "execution_count": 65,
     "metadata": {},
     "output_type": "execute_result"
    }
   ],
   "source": [
    "t_married_outcomes = married_dft[married_dft['LoanStat'] == 1].shape[0]\n",
    "t_priv_married_ratio = t_married_outcomes/tmarried_priv\n",
    "t_priv_married_ratio"
   ]
  },
  {
   "cell_type": "code",
   "execution_count": 66,
   "metadata": {},
   "outputs": [
    {
     "name": "stdout",
     "output_type": "stream",
     "text": [
      "Disparate Impact for Marriage against Loan Status on Transformed Dataset:  0.8512108020749158\n"
     ]
    }
   ],
   "source": [
    "##Disparate Impact\n",
    "t_disparate_impact_married = t_unpriv_married_ratio/t_priv_married_ratio\n",
    "print(\"Disparate Impact for Marriage against Loan Status on Transformed Dataset: \", t_disparate_impact_married)"
   ]
  },
  {
   "cell_type": "code",
   "execution_count": 67,
   "metadata": {},
   "outputs": [
    {
     "name": "stdout",
     "output_type": "stream",
     "text": [
      "Statistical Parity for Marriage against Loan Status on Transformed Dataset:  -0.10860176182956305\n"
     ]
    }
   ],
   "source": [
    "##Statistical Parity\n",
    "t_statistical_parity_married = t_unpriv_married_ratio - t_priv_married_ratio\n",
    "print(\"Statistical Parity for Marriage against Loan Status on Transformed Dataset: \", t_statistical_parity_married)"
   ]
  },
  {
   "cell_type": "code",
   "execution_count": 68,
   "metadata": {},
   "outputs": [
    {
     "name": "stdout",
     "output_type": "stream",
     "text": [
      "Disparate Impact for Gender against Loan Status (Original Dataset):  0.953850430914651\n",
      "Statistical Parity for Gender against Loan Status (Original Dataset):  -0.03240288893226628\n",
      "Disparate Impact for Marriage against Loan Status (Original Dataset):  0.8783963120765523\n",
      "Statistical Parity for Marriage against Loan Status (Original Dataset):  -0.08803600323624594\n"
     ]
    }
   ],
   "source": [
    "## Original Dataset\n",
    "print(\"Disparate Impact for Gender against Loan Status (Original Dataset): \", disparate_impact_Gen_LS)\n",
    "print(\"Statistical Parity for Gender against Loan Status (Original Dataset): \", statistical_parity_Gen_LS)\n",
    "\n",
    "print(\"Disparate Impact for Marriage against Loan Status (Original Dataset): \", disparate_impact_married_LS)\n",
    "print(\"Statistical Parity for Marriage against Loan Status (Original Dataset): \", statistical_parity_married_LS)"
   ]
  },
  {
   "cell_type": "code",
   "execution_count": 69,
   "metadata": {},
   "outputs": [
    {
     "name": "stdout",
     "output_type": "stream",
     "text": [
      "Disparate Impact for Gender against Loan Status (Transformed Dataset):  1.1928934010152286\n",
      "Statistical Parity for Gender against Loan Status (Transformed Dataset):  0.11409439464305005\n",
      "Disparate Impact for Marriage against Loan Status (Transformed Dataset):  0.8512108020749158\n",
      "Statistical Parity for Marriage against Loan Status (Transformed Dataset):  -0.10860176182956305\n"
     ]
    }
   ],
   "source": [
    "## Transformed Dataset\n",
    "print(\"Disparate Impact for Gender against Loan Status (Transformed Dataset): \", t_disparate_impact)\n",
    "print(\"Statistical Parity for Gender against Loan Status (Transformed Dataset): \", t_statistical_parity)\n",
    "\n",
    "print(\"Disparate Impact for Marriage against Loan Status (Transformed Dataset): \", t_disparate_impact_married)\n",
    "print(\"Statistical Parity for Marriage against Loan Status (Transformed Dataset): \", t_statistical_parity_married)"
   ]
  },
  {
   "cell_type": "markdown",
   "metadata": {},
   "source": [
    "| Fairness Metric | Gender - Original Dataset | Gender - Transformed Dataset | Married - Original Dataset | Married - Transformed Dataset |\n",
    "| ----------- | ----------- | ----------- | ----------- | ----------- |\n",
    "|Disparate Impact| 0.95385 | 1.19289 | 0.87839 | 0.85121 |\n",
    "|Statistical Parity Difference | -0.03240 | 0.11409 | -0.08803 | -0.10860"
   ]
  },
  {
   "cell_type": "markdown",
   "metadata": {},
   "source": [
    "# Step 4 (Option A)"
   ]
  },
  {
   "cell_type": "markdown",
   "metadata": {},
   "source": [
    "#### 4.1) Randomly split your original dataset into training and testing datasets"
   ]
  },
  {
   "cell_type": "code",
   "execution_count": 70,
   "metadata": {},
   "outputs": [],
   "source": [
    "from sklearn.model_selection import train_test_split\n",
    "from sklearn.ensemble import RandomForestClassifier\n",
    "from sklearn.metrics import classification_report, confusion_matrix, accuracy_score, precision_score, recall_score"
   ]
  },
  {
   "cell_type": "code",
   "execution_count": 71,
   "metadata": {},
   "outputs": [
    {
     "name": "stdout",
     "output_type": "stream",
     "text": [
      "Total training: 429\n",
      "Total testing: 185\n"
     ]
    }
   ],
   "source": [
    "##get original columns\n",
    "df_ml_orig = pd.read_csv(\"train_ctrUa4K.csv\")\n",
    "\n",
    "##split data into a test and train dataset 70/30\n",
    "training_orig, testing_orig = train_test_split(df_ml_orig, test_size=0.3, random_state=25)\n",
    "\n",
    "print(f\"Total training: {training_orig.shape[0]}\")\n",
    "print(f\"Total testing: {testing_orig.shape[0]}\")"
   ]
  },
  {
   "cell_type": "markdown",
   "metadata": {},
   "source": [
    "#### 4.2) Randomly split your transformed dataset into training and testing datasets (from step 3.3) <span style=\"color:red\"></span>"
   ]
  },
  {
   "cell_type": "code",
   "execution_count": 72,
   "metadata": {},
   "outputs": [
    {
     "name": "stdout",
     "output_type": "stream",
     "text": [
      "Total training: 336\n",
      "Total testing: 144\n"
     ]
    }
   ],
   "source": [
    "##split the transformed dataset\n",
    "training_trans, testing_trans = train_test_split(transformed, test_size=0.3, random_state=25)\n",
    "\n",
    "print(f\"Total training: {training_trans.shape[0]}\")\n",
    "print(f\"Total testing: {testing_trans.shape[0]}\")"
   ]
  },
  {
   "cell_type": "markdown",
   "metadata": {},
   "source": [
    "#### 4.3) Train a classifier using the original training dataset from Step 4.1; select one of your dependent variables as  the output label to train your classifier."
   ]
  },
  {
   "cell_type": "code",
   "execution_count": 73,
   "metadata": {},
   "outputs": [],
   "source": [
    "##create dependent variable into binary column\n",
    "df_ml_orig['LoanStat'] = np.where(df_ml_orig['Loan_Status'] == 'Y',1,0)"
   ]
  },
  {
   "cell_type": "code",
   "execution_count": 74,
   "metadata": {},
   "outputs": [],
   "source": [
    "##drop variables not needed for LogReg\n",
    "df_ml_orig = df_ml_orig.drop(['Loan_ID', 'Loan_Status'], axis=1)"
   ]
  },
  {
   "cell_type": "code",
   "execution_count": 75,
   "metadata": {},
   "outputs": [
    {
     "name": "stdout",
     "output_type": "stream",
     "text": [
      "Gender               13\n",
      "Married               3\n",
      "Dependents           15\n",
      "Education             0\n",
      "Self_Employed        32\n",
      "ApplicantIncome       0\n",
      "CoapplicantIncome     0\n",
      "LoanAmount           22\n",
      "Loan_Amount_Term     14\n",
      "Credit_History       50\n",
      "Property_Area         0\n",
      "LoanStat              0\n",
      "dtype: int64\n"
     ]
    }
   ],
   "source": [
    "##test null vals\n",
    "print(df_ml_orig.isnull().sum(axis = 0))"
   ]
  },
  {
   "cell_type": "code",
   "execution_count": 76,
   "metadata": {},
   "outputs": [
    {
     "data": {
      "text/plain": [
       "(480, 12)"
      ]
     },
     "execution_count": 76,
     "metadata": {},
     "output_type": "execute_result"
    }
   ],
   "source": [
    "##due to the short amount of null values out of 614, we can drop nulls without significant impact \n",
    "#in Protected Vars Gender and Married \n",
    "#df2 = df2.dropna(axis = 0, subset=['Gender','Married'])\n",
    "df_ml_orig = df_ml_orig.dropna(axis = 0)\n",
    "df_ml_orig.shape"
   ]
  },
  {
   "cell_type": "code",
   "execution_count": 77,
   "metadata": {},
   "outputs": [],
   "source": [
    "#Change Data Types \n",
    "#Numeric:'ApplicantIncome','CoapplicantIncome','LoanAmount','Loan_Amount_Term','Credit_History'\n",
    "#Categorical:'Gender','Married','Dependents','Education','Self_Employed','Property_Area'\n",
    "#Dependent: LoanStat\n",
    "df_ml_orig = df_ml_orig.infer_objects()"
   ]
  },
  {
   "cell_type": "code",
   "execution_count": 78,
   "metadata": {},
   "outputs": [],
   "source": [
    "categorical = ['Gender','Married','Dependents','Education','Self_Employed','Property_Area']\n",
    "for feats in categorical:\n",
    "    df_ml_orig= encoding(df_ml_orig,feats)"
   ]
  },
  {
   "cell_type": "code",
   "execution_count": 79,
   "metadata": {},
   "outputs": [],
   "source": [
    "##split data into a test and train dataset 70/20\n",
    "x = df_ml_orig.drop('LoanStat', axis = 1)\n",
    "y = df_ml_orig['LoanStat']\n",
    "x_train, x_test, y_train, y_test = train_test_split(x, y, test_size = 0.3,  random_state = 25)"
   ]
  },
  {
   "cell_type": "code",
   "execution_count": 80,
   "metadata": {},
   "outputs": [],
   "source": [
    "#Create a classifier RF\n",
    "clf = RandomForestClassifier(n_estimators = 115)"
   ]
  },
  {
   "cell_type": "code",
   "execution_count": 81,
   "metadata": {
    "scrolled": true
   },
   "outputs": [
    {
     "data": {
      "text/plain": [
       "RandomForestClassifier(n_estimators=115)"
      ]
     },
     "execution_count": 81,
     "metadata": {},
     "output_type": "execute_result"
    }
   ],
   "source": [
    "#fit training data to the classifier\n",
    "clf.fit(x_train,y_train)"
   ]
  },
  {
   "cell_type": "code",
   "execution_count": 82,
   "metadata": {},
   "outputs": [],
   "source": [
    "#use classifier to predict \n",
    "y_pred = clf.predict(x_test)"
   ]
  },
  {
   "cell_type": "code",
   "execution_count": 83,
   "metadata": {},
   "outputs": [
    {
     "data": {
      "text/plain": [
       "Credit_History             0.195071\n",
       "ApplicantIncome            0.192058\n",
       "LoanAmount                 0.179921\n",
       "CoapplicantIncome          0.095802\n",
       "Loan_Amount_Term           0.046725\n",
       "Property_Area_Semiurban    0.030280\n",
       "Property_Area_Rural        0.030125\n",
       "Married_Yes                0.021602\n",
       "Married_No                 0.020806\n",
       "Dependents_1               0.020647\n",
       "Dependents_0               0.018901\n",
       "Education_Not Graduate     0.018768\n",
       "Property_Area_Urban        0.018604\n",
       "Gender_Female              0.018083\n",
       "Gender_Male                0.017602\n",
       "Education_Graduate         0.017548\n",
       "Self_Employed_Yes          0.017400\n",
       "Self_Employed_No           0.014043\n",
       "Dependents_2               0.013098\n",
       "Dependents_3+              0.012915\n",
       "dtype: float64"
      ]
     },
     "execution_count": 83,
     "metadata": {},
     "output_type": "execute_result"
    }
   ],
   "source": [
    "#get important features, not necessary for the project, but always helps understand the dataset better. \n",
    "features = list(x)\n",
    "feature_imp = pd.Series(clf.feature_importances_,index=features).sort_values(ascending=False)\n",
    "feature_imp"
   ]
  },
  {
   "cell_type": "code",
   "execution_count": 84,
   "metadata": {},
   "outputs": [
    {
     "name": "stdout",
     "output_type": "stream",
     "text": [
      "[[21 27]\n",
      " [ 6 90]]\n"
     ]
    }
   ],
   "source": [
    "##get performance metrics - confusion matrix and precision/recall as well as f1 score\n",
    "print(confusion_matrix(y_test,y_pred))\n",
    "#print(classification_report(y_test,y_pred))"
   ]
  },
  {
   "cell_type": "code",
   "execution_count": 85,
   "metadata": {},
   "outputs": [
    {
     "name": "stdout",
     "output_type": "stream",
     "text": [
      "Accuracy:  0.7708333333333334\n",
      "Precision:  0.7692307692307693\n",
      "Recall:  0.9375\n"
     ]
    }
   ],
   "source": [
    "print(\"Accuracy: \",accuracy_score(y_test,y_pred))\n",
    "print(\"Precision: \",precision_score(y_test,y_pred))\n",
    "print(\"Recall: \",recall_score(y_test,y_pred))"
   ]
  },
  {
   "cell_type": "markdown",
   "metadata": {},
   "source": [
    "#### 4.4) Train a classifier using the transformed training dataset from Step 4.2; select one of your dependent variables as the output label to train your classifier. "
   ]
  },
  {
   "cell_type": "code",
   "execution_count": 86,
   "metadata": {},
   "outputs": [],
   "source": [
    "##dft is the transformed dataset, split data into a test and train dataset 70/30 of transformed dataset\n",
    "x = dft.drop('LoanStat', axis = 1)\n",
    "y = dft['LoanStat']\n",
    "xt_train, xt_test, yt_train, yt_test = train_test_split(x, y, test_size = 0.3,  random_state = 25)"
   ]
  },
  {
   "cell_type": "code",
   "execution_count": 87,
   "metadata": {},
   "outputs": [],
   "source": [
    "#Create a classifier RF\n",
    "clft = RandomForestClassifier(n_estimators = 115)"
   ]
  },
  {
   "cell_type": "code",
   "execution_count": 88,
   "metadata": {},
   "outputs": [
    {
     "data": {
      "text/plain": [
       "RandomForestClassifier(n_estimators=115)"
      ]
     },
     "execution_count": 88,
     "metadata": {},
     "output_type": "execute_result"
    }
   ],
   "source": [
    "#fit training data to the classifier\n",
    "clft.fit(xt_train,yt_train)"
   ]
  },
  {
   "cell_type": "code",
   "execution_count": 89,
   "metadata": {},
   "outputs": [],
   "source": [
    "#use classifier to predict \n",
    "yt_pred = clft.predict(xt_test)"
   ]
  },
  {
   "cell_type": "code",
   "execution_count": 90,
   "metadata": {},
   "outputs": [
    {
     "data": {
      "text/plain": [
       "ApplicantIncome            0.201638\n",
       "Credit_History             0.196771\n",
       "LoanAmount                 0.187187\n",
       "CoapplicantIncome          0.093585\n",
       "Loan_Amount_Term           0.040306\n",
       "Married                    0.032031\n",
       "Property_Area_Semiurban    0.030865\n",
       "Property_Area_Rural        0.027450\n",
       "Gender                     0.026233\n",
       "Dependents_0               0.024738\n",
       "Property_Area_Urban        0.019780\n",
       "Education_Not Graduate     0.019743\n",
       "Education_Graduate         0.018681\n",
       "Self_Employed_No           0.017831\n",
       "Dependents_1               0.017679\n",
       "Dependents_2               0.016260\n",
       "Self_Employed_Yes          0.015783\n",
       "Dependents_3+              0.013441\n",
       "dtype: float64"
      ]
     },
     "execution_count": 90,
     "metadata": {},
     "output_type": "execute_result"
    }
   ],
   "source": [
    "#get important features, not necessary for the project, but always helps understand the dataset better. \n",
    "tfeats = list(x)\n",
    "tfeats_imp = pd.Series(clft.feature_importances_,index=tfeats).sort_values(ascending=False)\n",
    "tfeats_imp"
   ]
  },
  {
   "cell_type": "code",
   "execution_count": 91,
   "metadata": {},
   "outputs": [
    {
     "name": "stdout",
     "output_type": "stream",
     "text": [
      "[[21 27]\n",
      " [12 84]]\n"
     ]
    }
   ],
   "source": [
    "##get performance metrics - confusion matrix and precision/recall as well as f1 score\n",
    "print(confusion_matrix(yt_test,yt_pred))\n",
    "#print(classification_report(y_test,y_pred))"
   ]
  },
  {
   "cell_type": "code",
   "execution_count": 92,
   "metadata": {},
   "outputs": [
    {
     "name": "stdout",
     "output_type": "stream",
     "text": [
      "Accuracy:  0.7291666666666666\n",
      "Precision:  0.7567567567567568\n",
      "Recall:  0.875\n"
     ]
    }
   ],
   "source": [
    "print(\"Accuracy: \",accuracy_score(yt_test,yt_pred))\n",
    "print(\"Precision: \",precision_score(yt_test,yt_pred))\n",
    "print(\"Recall: \",recall_score(yt_test,yt_pred))"
   ]
  },
  {
   "cell_type": "markdown",
   "metadata": {},
   "source": [
    "#### 4.5)  Select the privileged/unprivileged groups associated with one of your protected class variables (from Step 3.1); Use the two fairness metrics identified in Step 3.2 and and compute the fairness metrics for the classifier output associated with the original testing dataset and the transformed testing dataset."
   ]
  },
  {
   "cell_type": "markdown",
   "metadata": {},
   "source": [
    "###### _Original Fairness Metrics for Gender as seen in step 3.2_"
   ]
  },
  {
   "cell_type": "code",
   "execution_count": 93,
   "metadata": {},
   "outputs": [
    {
     "name": "stdout",
     "output_type": "stream",
     "text": [
      "original disparate impact for gender:  0.953850430914651\n",
      "original statistical parity for gender:  -0.03240288893226628\n"
     ]
    }
   ],
   "source": [
    "##disparate impact & statistical parity information from Step 3 (just for reference)\n",
    "##age disparate impact\n",
    "print(\"original disparate impact for gender: \",disparate_impact_Gen_LS)\n",
    "print(\"original statistical parity for gender: \",statistical_parity_Gen_LS)\n",
    "##marriage disparate impact\n",
    "#print(\"original disparate impact for marriage: \",disparate_impact_married)\n",
    "#print(\"original statistical parity for marriage: \",statistical_parity_married)"
   ]
  },
  {
   "cell_type": "markdown",
   "metadata": {},
   "source": [
    "###### _Computing Fairness Metrics for Gender using Classifier Output Associated with the Original Dataset_"
   ]
  },
  {
   "cell_type": "code",
   "execution_count": 94,
   "metadata": {},
   "outputs": [],
   "source": [
    "##This is for Original Dataset (not transformed)\n",
    "##df3 will combine x_test, y_test to have the original training dataset back together\n",
    "df3 = x_test.join(y_test)"
   ]
  },
  {
   "cell_type": "code",
   "execution_count": 95,
   "metadata": {},
   "outputs": [
    {
     "data": {
      "text/html": [
       "<div>\n",
       "<style scoped>\n",
       "    .dataframe tbody tr th:only-of-type {\n",
       "        vertical-align: middle;\n",
       "    }\n",
       "\n",
       "    .dataframe tbody tr th {\n",
       "        vertical-align: top;\n",
       "    }\n",
       "\n",
       "    .dataframe thead th {\n",
       "        text-align: right;\n",
       "    }\n",
       "</style>\n",
       "<table border=\"1\" class=\"dataframe\">\n",
       "  <thead>\n",
       "    <tr style=\"text-align: right;\">\n",
       "      <th></th>\n",
       "      <th>ApplicantIncome</th>\n",
       "      <th>CoapplicantIncome</th>\n",
       "      <th>LoanAmount</th>\n",
       "      <th>Loan_Amount_Term</th>\n",
       "      <th>Credit_History</th>\n",
       "      <th>Gender_Female</th>\n",
       "      <th>Gender_Male</th>\n",
       "      <th>Married_No</th>\n",
       "      <th>Married_Yes</th>\n",
       "      <th>Dependents_0</th>\n",
       "      <th>...</th>\n",
       "      <th>Dependents_3+</th>\n",
       "      <th>Education_Graduate</th>\n",
       "      <th>Education_Not Graduate</th>\n",
       "      <th>Self_Employed_No</th>\n",
       "      <th>Self_Employed_Yes</th>\n",
       "      <th>Property_Area_Rural</th>\n",
       "      <th>Property_Area_Semiurban</th>\n",
       "      <th>Property_Area_Urban</th>\n",
       "      <th>LoanStat</th>\n",
       "      <th>LoanStat_pred</th>\n",
       "    </tr>\n",
       "  </thead>\n",
       "  <tbody>\n",
       "    <tr>\n",
       "      <th>50</th>\n",
       "      <td>1928</td>\n",
       "      <td>1644.0</td>\n",
       "      <td>100.0</td>\n",
       "      <td>360.0</td>\n",
       "      <td>1.0</td>\n",
       "      <td>1</td>\n",
       "      <td>0</td>\n",
       "      <td>0</td>\n",
       "      <td>1</td>\n",
       "      <td>1</td>\n",
       "      <td>...</td>\n",
       "      <td>0</td>\n",
       "      <td>0</td>\n",
       "      <td>1</td>\n",
       "      <td>1</td>\n",
       "      <td>0</td>\n",
       "      <td>0</td>\n",
       "      <td>1</td>\n",
       "      <td>0</td>\n",
       "      <td>1</td>\n",
       "      <td>1</td>\n",
       "    </tr>\n",
       "    <tr>\n",
       "      <th>258</th>\n",
       "      <td>14683</td>\n",
       "      <td>2100.0</td>\n",
       "      <td>304.0</td>\n",
       "      <td>360.0</td>\n",
       "      <td>1.0</td>\n",
       "      <td>0</td>\n",
       "      <td>1</td>\n",
       "      <td>0</td>\n",
       "      <td>1</td>\n",
       "      <td>1</td>\n",
       "      <td>...</td>\n",
       "      <td>0</td>\n",
       "      <td>1</td>\n",
       "      <td>0</td>\n",
       "      <td>1</td>\n",
       "      <td>0</td>\n",
       "      <td>1</td>\n",
       "      <td>0</td>\n",
       "      <td>0</td>\n",
       "      <td>0</td>\n",
       "      <td>1</td>\n",
       "    </tr>\n",
       "    <tr>\n",
       "      <th>595</th>\n",
       "      <td>3833</td>\n",
       "      <td>0.0</td>\n",
       "      <td>110.0</td>\n",
       "      <td>360.0</td>\n",
       "      <td>1.0</td>\n",
       "      <td>0</td>\n",
       "      <td>1</td>\n",
       "      <td>1</td>\n",
       "      <td>0</td>\n",
       "      <td>1</td>\n",
       "      <td>...</td>\n",
       "      <td>0</td>\n",
       "      <td>0</td>\n",
       "      <td>1</td>\n",
       "      <td>1</td>\n",
       "      <td>0</td>\n",
       "      <td>1</td>\n",
       "      <td>0</td>\n",
       "      <td>0</td>\n",
       "      <td>1</td>\n",
       "      <td>1</td>\n",
       "    </tr>\n",
       "    <tr>\n",
       "      <th>193</th>\n",
       "      <td>3858</td>\n",
       "      <td>0.0</td>\n",
       "      <td>76.0</td>\n",
       "      <td>360.0</td>\n",
       "      <td>1.0</td>\n",
       "      <td>0</td>\n",
       "      <td>1</td>\n",
       "      <td>1</td>\n",
       "      <td>0</td>\n",
       "      <td>1</td>\n",
       "      <td>...</td>\n",
       "      <td>0</td>\n",
       "      <td>1</td>\n",
       "      <td>0</td>\n",
       "      <td>1</td>\n",
       "      <td>0</td>\n",
       "      <td>0</td>\n",
       "      <td>1</td>\n",
       "      <td>0</td>\n",
       "      <td>1</td>\n",
       "      <td>1</td>\n",
       "    </tr>\n",
       "    <tr>\n",
       "      <th>390</th>\n",
       "      <td>9167</td>\n",
       "      <td>0.0</td>\n",
       "      <td>185.0</td>\n",
       "      <td>360.0</td>\n",
       "      <td>1.0</td>\n",
       "      <td>0</td>\n",
       "      <td>1</td>\n",
       "      <td>1</td>\n",
       "      <td>0</td>\n",
       "      <td>0</td>\n",
       "      <td>...</td>\n",
       "      <td>1</td>\n",
       "      <td>1</td>\n",
       "      <td>0</td>\n",
       "      <td>1</td>\n",
       "      <td>0</td>\n",
       "      <td>1</td>\n",
       "      <td>0</td>\n",
       "      <td>0</td>\n",
       "      <td>1</td>\n",
       "      <td>1</td>\n",
       "    </tr>\n",
       "  </tbody>\n",
       "</table>\n",
       "<p>5 rows × 22 columns</p>\n",
       "</div>"
      ],
      "text/plain": [
       "     ApplicantIncome  CoapplicantIncome  LoanAmount  Loan_Amount_Term  \\\n",
       "50              1928             1644.0       100.0             360.0   \n",
       "258            14683             2100.0       304.0             360.0   \n",
       "595             3833                0.0       110.0             360.0   \n",
       "193             3858                0.0        76.0             360.0   \n",
       "390             9167                0.0       185.0             360.0   \n",
       "\n",
       "     Credit_History  Gender_Female  Gender_Male  Married_No  Married_Yes  \\\n",
       "50              1.0              1            0           0            1   \n",
       "258             1.0              0            1           0            1   \n",
       "595             1.0              0            1           1            0   \n",
       "193             1.0              0            1           1            0   \n",
       "390             1.0              0            1           1            0   \n",
       "\n",
       "     Dependents_0  ...  Dependents_3+  Education_Graduate  \\\n",
       "50              1  ...              0                   0   \n",
       "258             1  ...              0                   1   \n",
       "595             1  ...              0                   0   \n",
       "193             1  ...              0                   1   \n",
       "390             0  ...              1                   1   \n",
       "\n",
       "     Education_Not Graduate  Self_Employed_No  Self_Employed_Yes  \\\n",
       "50                        1                 1                  0   \n",
       "258                       0                 1                  0   \n",
       "595                       1                 1                  0   \n",
       "193                       0                 1                  0   \n",
       "390                       0                 1                  0   \n",
       "\n",
       "     Property_Area_Rural  Property_Area_Semiurban  Property_Area_Urban  \\\n",
       "50                     0                        1                    0   \n",
       "258                    1                        0                    0   \n",
       "595                    1                        0                    0   \n",
       "193                    0                        1                    0   \n",
       "390                    1                        0                    0   \n",
       "\n",
       "     LoanStat  LoanStat_pred  \n",
       "50          1              1  \n",
       "258         0              1  \n",
       "595         1              1  \n",
       "193         1              1  \n",
       "390         1              1  \n",
       "\n",
       "[5 rows x 22 columns]"
      ]
     },
     "execution_count": 95,
     "metadata": {},
     "output_type": "execute_result"
    }
   ],
   "source": [
    "##df4 combines df3 with the predicted column to have the dataset together and be able to compute fairness metrics on the predicted data\n",
    "y_hat = pd.DataFrame(data = y_pred, columns = ['LoanStat_pred'], index = x_test.index.copy())\n",
    "df4 = pd.merge(df3, y_hat, how = 'left', left_index = True, right_index = True)\n",
    "df4.head() ##can compare loanStat with LoanStat_pred"
   ]
  },
  {
   "cell_type": "code",
   "execution_count": 96,
   "metadata": {},
   "outputs": [],
   "source": [
    "gender_m_df = df4[df4['Gender_Male']==1]\n",
    "priviledged = gender_m_df.shape[0]\n",
    "gender_f_df = df4[df4['Gender_Female']==1]\n",
    "unprivileged = gender_f_df.shape[0]"
   ]
  },
  {
   "cell_type": "code",
   "execution_count": 97,
   "metadata": {},
   "outputs": [
    {
     "data": {
      "text/plain": [
       "120"
      ]
     },
     "execution_count": 97,
     "metadata": {},
     "output_type": "execute_result"
    }
   ],
   "source": [
    "priviledged"
   ]
  },
  {
   "cell_type": "code",
   "execution_count": 98,
   "metadata": {},
   "outputs": [
    {
     "data": {
      "text/plain": [
       "24"
      ]
     },
     "execution_count": 98,
     "metadata": {},
     "output_type": "execute_result"
    }
   ],
   "source": [
    "unprivileged"
   ]
  },
  {
   "cell_type": "code",
   "execution_count": 99,
   "metadata": {},
   "outputs": [
    {
     "data": {
      "text/plain": [
       "470"
      ]
     },
     "execution_count": 99,
     "metadata": {},
     "output_type": "execute_result"
    }
   ],
   "source": [
    "privileged_gen"
   ]
  },
  {
   "cell_type": "code",
   "execution_count": 100,
   "metadata": {},
   "outputs": [
    {
     "data": {
      "text/plain": [
       "109"
      ]
     },
     "execution_count": 100,
     "metadata": {},
     "output_type": "execute_result"
    }
   ],
   "source": [
    "unprivileged_gen"
   ]
  },
  {
   "cell_type": "code",
   "execution_count": 101,
   "metadata": {},
   "outputs": [
    {
     "name": "stdout",
     "output_type": "stream",
     "text": [
      "Disparate Impact on predicted for gender:  1.09375\n",
      "Statistical Parity on predicted for gender:  0.07499999999999996\n"
     ]
    }
   ],
   "source": [
    "##recompute fairness metrics for gender to evaluate bias in the predicted group\n",
    "gender_m_df = df4[df4['Gender_Male']==1]\n",
    "priviledged = gender_m_df.shape[0]\n",
    "gender_f_df = df4[df4['Gender_Female']==1]\n",
    "unprivileged = gender_f_df.shape[0]\n",
    "\n",
    "unpriv_outcomes = gender_f_df[gender_f_df['LoanStat_pred'] == 1].shape[0]\n",
    "unpriv_ratio = unpriv_outcomes/unprivileged\n",
    "unpriv_ratio\n",
    "\n",
    "priv_outcomes = gender_m_df[gender_m_df['LoanStat_pred'] == 1].shape[0]\n",
    "priv_ratio = priv_outcomes/priviledged\n",
    "priv_ratio\n",
    "\n",
    "disparate_impact = unpriv_ratio/priv_ratio\n",
    "print(\"Disparate Impact on predicted for gender: \", disparate_impact)\n",
    "\n",
    "\n",
    "##Statistical Parity\n",
    "statistical_parity = unpriv_ratio - priv_ratio\n",
    "print(\"Statistical Parity on predicted for gender: \", statistical_parity)"
   ]
  },
  {
   "cell_type": "markdown",
   "metadata": {},
   "source": [
    "###### _Computing Fairness Metrics for Gender using Classifier Output Associated with the Transformed Dataset_"
   ]
  },
  {
   "cell_type": "code",
   "execution_count": 102,
   "metadata": {},
   "outputs": [],
   "source": [
    "##This is for Transformed Dataset\n",
    "dft = xt_test.join(yt_test)"
   ]
  },
  {
   "cell_type": "code",
   "execution_count": 103,
   "metadata": {},
   "outputs": [
    {
     "data": {
      "text/html": [
       "<div>\n",
       "<style scoped>\n",
       "    .dataframe tbody tr th:only-of-type {\n",
       "        vertical-align: middle;\n",
       "    }\n",
       "\n",
       "    .dataframe tbody tr th {\n",
       "        vertical-align: top;\n",
       "    }\n",
       "\n",
       "    .dataframe thead th {\n",
       "        text-align: right;\n",
       "    }\n",
       "</style>\n",
       "<table border=\"1\" class=\"dataframe\">\n",
       "  <thead>\n",
       "    <tr style=\"text-align: right;\">\n",
       "      <th></th>\n",
       "      <th>Gender</th>\n",
       "      <th>Married</th>\n",
       "      <th>ApplicantIncome</th>\n",
       "      <th>CoapplicantIncome</th>\n",
       "      <th>LoanAmount</th>\n",
       "      <th>Loan_Amount_Term</th>\n",
       "      <th>Credit_History</th>\n",
       "      <th>Dependents_0</th>\n",
       "      <th>Dependents_1</th>\n",
       "      <th>Dependents_2</th>\n",
       "      <th>Dependents_3+</th>\n",
       "      <th>Education_Graduate</th>\n",
       "      <th>Education_Not Graduate</th>\n",
       "      <th>Self_Employed_No</th>\n",
       "      <th>Self_Employed_Yes</th>\n",
       "      <th>Property_Area_Rural</th>\n",
       "      <th>Property_Area_Semiurban</th>\n",
       "      <th>Property_Area_Urban</th>\n",
       "      <th>LoanStat</th>\n",
       "      <th>LoanStat_predt</th>\n",
       "    </tr>\n",
       "  </thead>\n",
       "  <tbody>\n",
       "    <tr>\n",
       "      <th>50</th>\n",
       "      <td>0.0</td>\n",
       "      <td>1.0</td>\n",
       "      <td>1928.0</td>\n",
       "      <td>1640.0</td>\n",
       "      <td>100.0</td>\n",
       "      <td>300.0</td>\n",
       "      <td>1.0</td>\n",
       "      <td>1.0</td>\n",
       "      <td>0.0</td>\n",
       "      <td>0.0</td>\n",
       "      <td>0.0</td>\n",
       "      <td>0.0</td>\n",
       "      <td>1.0</td>\n",
       "      <td>1.0</td>\n",
       "      <td>0.0</td>\n",
       "      <td>0.0</td>\n",
       "      <td>1.0</td>\n",
       "      <td>0.0</td>\n",
       "      <td>1.0</td>\n",
       "      <td>1.0</td>\n",
       "    </tr>\n",
       "    <tr>\n",
       "      <th>258</th>\n",
       "      <td>1.0</td>\n",
       "      <td>1.0</td>\n",
       "      <td>14999.0</td>\n",
       "      <td>1881.0</td>\n",
       "      <td>225.0</td>\n",
       "      <td>360.0</td>\n",
       "      <td>1.0</td>\n",
       "      <td>1.0</td>\n",
       "      <td>0.0</td>\n",
       "      <td>0.0</td>\n",
       "      <td>0.0</td>\n",
       "      <td>1.0</td>\n",
       "      <td>0.0</td>\n",
       "      <td>1.0</td>\n",
       "      <td>0.0</td>\n",
       "      <td>1.0</td>\n",
       "      <td>0.0</td>\n",
       "      <td>0.0</td>\n",
       "      <td>0.0</td>\n",
       "      <td>1.0</td>\n",
       "    </tr>\n",
       "    <tr>\n",
       "      <th>595</th>\n",
       "      <td>1.0</td>\n",
       "      <td>0.0</td>\n",
       "      <td>3481.0</td>\n",
       "      <td>0.0</td>\n",
       "      <td>84.0</td>\n",
       "      <td>360.0</td>\n",
       "      <td>1.0</td>\n",
       "      <td>1.0</td>\n",
       "      <td>0.0</td>\n",
       "      <td>0.0</td>\n",
       "      <td>0.0</td>\n",
       "      <td>0.0</td>\n",
       "      <td>1.0</td>\n",
       "      <td>1.0</td>\n",
       "      <td>0.0</td>\n",
       "      <td>1.0</td>\n",
       "      <td>0.0</td>\n",
       "      <td>0.0</td>\n",
       "      <td>1.0</td>\n",
       "      <td>0.0</td>\n",
       "    </tr>\n",
       "    <tr>\n",
       "      <th>193</th>\n",
       "      <td>1.0</td>\n",
       "      <td>0.0</td>\n",
       "      <td>3510.0</td>\n",
       "      <td>0.0</td>\n",
       "      <td>56.0</td>\n",
       "      <td>360.0</td>\n",
       "      <td>1.0</td>\n",
       "      <td>1.0</td>\n",
       "      <td>0.0</td>\n",
       "      <td>0.0</td>\n",
       "      <td>0.0</td>\n",
       "      <td>1.0</td>\n",
       "      <td>0.0</td>\n",
       "      <td>1.0</td>\n",
       "      <td>0.0</td>\n",
       "      <td>0.0</td>\n",
       "      <td>1.0</td>\n",
       "      <td>0.0</td>\n",
       "      <td>1.0</td>\n",
       "      <td>1.0</td>\n",
       "    </tr>\n",
       "    <tr>\n",
       "      <th>390</th>\n",
       "      <td>1.0</td>\n",
       "      <td>0.0</td>\n",
       "      <td>9083.0</td>\n",
       "      <td>0.0</td>\n",
       "      <td>138.0</td>\n",
       "      <td>360.0</td>\n",
       "      <td>1.0</td>\n",
       "      <td>0.0</td>\n",
       "      <td>0.0</td>\n",
       "      <td>0.0</td>\n",
       "      <td>1.0</td>\n",
       "      <td>1.0</td>\n",
       "      <td>0.0</td>\n",
       "      <td>1.0</td>\n",
       "      <td>0.0</td>\n",
       "      <td>1.0</td>\n",
       "      <td>0.0</td>\n",
       "      <td>0.0</td>\n",
       "      <td>1.0</td>\n",
       "      <td>1.0</td>\n",
       "    </tr>\n",
       "  </tbody>\n",
       "</table>\n",
       "</div>"
      ],
      "text/plain": [
       "     Gender  Married  ApplicantIncome  CoapplicantIncome  LoanAmount  \\\n",
       "50      0.0      1.0           1928.0             1640.0       100.0   \n",
       "258     1.0      1.0          14999.0             1881.0       225.0   \n",
       "595     1.0      0.0           3481.0                0.0        84.0   \n",
       "193     1.0      0.0           3510.0                0.0        56.0   \n",
       "390     1.0      0.0           9083.0                0.0       138.0   \n",
       "\n",
       "     Loan_Amount_Term  Credit_History  Dependents_0  Dependents_1  \\\n",
       "50              300.0             1.0           1.0           0.0   \n",
       "258             360.0             1.0           1.0           0.0   \n",
       "595             360.0             1.0           1.0           0.0   \n",
       "193             360.0             1.0           1.0           0.0   \n",
       "390             360.0             1.0           0.0           0.0   \n",
       "\n",
       "     Dependents_2  Dependents_3+  Education_Graduate  Education_Not Graduate  \\\n",
       "50            0.0            0.0                 0.0                     1.0   \n",
       "258           0.0            0.0                 1.0                     0.0   \n",
       "595           0.0            0.0                 0.0                     1.0   \n",
       "193           0.0            0.0                 1.0                     0.0   \n",
       "390           0.0            1.0                 1.0                     0.0   \n",
       "\n",
       "     Self_Employed_No  Self_Employed_Yes  Property_Area_Rural  \\\n",
       "50                1.0                0.0                  0.0   \n",
       "258               1.0                0.0                  1.0   \n",
       "595               1.0                0.0                  1.0   \n",
       "193               1.0                0.0                  0.0   \n",
       "390               1.0                0.0                  1.0   \n",
       "\n",
       "     Property_Area_Semiurban  Property_Area_Urban  LoanStat  LoanStat_predt  \n",
       "50                       1.0                  0.0       1.0             1.0  \n",
       "258                      0.0                  0.0       0.0             1.0  \n",
       "595                      0.0                  0.0       1.0             0.0  \n",
       "193                      1.0                  0.0       1.0             1.0  \n",
       "390                      0.0                  0.0       1.0             1.0  "
      ]
     },
     "execution_count": 103,
     "metadata": {},
     "output_type": "execute_result"
    }
   ],
   "source": [
    "##dft2 combines dft with the predicted column to have the dataset together and be able to compute fairness metrics on the predicted data\n",
    "yt_hat = pd.DataFrame(data = yt_pred, columns = ['LoanStat_predt'], index = xt_test.index.copy())\n",
    "dft2 = pd.merge(dft, yt_hat, how = 'left', left_index = True, right_index = True)\n",
    "dft2.head() ##can compare loanStat with LoanStat_predt"
   ]
  },
  {
   "cell_type": "code",
   "execution_count": 104,
   "metadata": {},
   "outputs": [],
   "source": [
    "##recompute fairness metrics for gender to evaluate bias in the predicted group\n",
    "gender_m_dft = dft2[dft2['Gender']==1]\n",
    "tprivileged = gender_m_dft.shape[0]\n",
    "gender_f_dft = dft2[dft2['Gender']==0]\n",
    "tunprivileged = gender_f_dft.shape[0]"
   ]
  },
  {
   "cell_type": "code",
   "execution_count": 105,
   "metadata": {},
   "outputs": [
    {
     "data": {
      "text/plain": [
       "0.875"
      ]
     },
     "execution_count": 105,
     "metadata": {},
     "output_type": "execute_result"
    }
   ],
   "source": [
    "t_unpriv_outcomes = gender_f_dft[gender_f_dft['LoanStat_predt'] == 1].shape[0]\n",
    "t_unpriv_ratio = t_unpriv_outcomes/tunprivileged\n",
    "t_unpriv_ratio"
   ]
  },
  {
   "cell_type": "code",
   "execution_count": 106,
   "metadata": {},
   "outputs": [
    {
     "data": {
      "text/plain": [
       "0.75"
      ]
     },
     "execution_count": 106,
     "metadata": {},
     "output_type": "execute_result"
    }
   ],
   "source": [
    "t_priv_outcomes = gender_m_dft[gender_m_dft['LoanStat_predt'] == 1].shape[0]\n",
    "t_priv_ratio = t_priv_outcomes/tprivileged\n",
    "t_priv_ratio"
   ]
  },
  {
   "cell_type": "code",
   "execution_count": 107,
   "metadata": {},
   "outputs": [
    {
     "name": "stdout",
     "output_type": "stream",
     "text": [
      "Disparate Impact on predicted for Gender:  1.09375\n",
      "Statistical Parity on predicted for Gender:  0.07499999999999996\n"
     ]
    }
   ],
   "source": [
    "## Disparate Impact and Statistical Parity of original dataset using classifier output \n",
    "print(\"Disparate Impact on predicted for Gender: \", disparate_impact)\n",
    "print(\"Statistical Parity on predicted for Gender: \", statistical_parity)"
   ]
  },
  {
   "cell_type": "code",
   "execution_count": 108,
   "metadata": {},
   "outputs": [
    {
     "name": "stdout",
     "output_type": "stream",
     "text": [
      "Disparate Impact on predicted for Gender - transformed dataset:  1.1928934010152286\n",
      "Statistical Parity on predicted for Gender - transformed dataset:  0.11409439464305005\n"
     ]
    }
   ],
   "source": [
    "## Disparate Impact and Statistical Parity of transformed dataset using classifier output \n",
    "print(\"Disparate Impact on predicted for Gender - transformed dataset: \", t_disparate_impact)\n",
    "print(\"Statistical Parity on predicted for Gender - transformed dataset: \", t_statistical_parity)"
   ]
  },
  {
   "cell_type": "code",
   "execution_count": 109,
   "metadata": {},
   "outputs": [
    {
     "name": "stderr",
     "output_type": "stream",
     "text": [
      "Matplotlib is currently using agg, which is a non-GUI backend, so cannot show the figure.\n"
     ]
    },
    {
     "data": {
      "image/png": "[encoded data removed]",
      "text/plain": [
       "<Figure size 720x360 with 1 Axes>"
      ]
     },
     "metadata": {
      "needs_background": "light"
     },
     "output_type": "display_data"
    }
   ],
   "source": [
    "#Disparate Impact on predicted for Gender:  1.075268817204301\n",
    "# creating the dataset\n",
    "data = {'Disparate Impact':1.07526}\n",
    "metric = list(data.keys())\n",
    "value = list(data.values())\n",
    "  \n",
    "fig_DispImpact_Gender_OriginalDataset = plt.figure(figsize = (10, 5))\n",
    " \n",
    "# creating the bar plot\n",
    "plt.bar(metric, value, width = 0.3)\n",
    " \n",
    "#plt.xlabel(\"Disparate Impact\")\n",
    "plt.ylim([-2, 2])\n",
    "plt.xlim([-1, 1])\n",
    "plt.ylabel(\"Value\")\n",
    "plt.axhline(1, color = 'gray', linestyle = 'dotted')\n",
    "plt.axhline(0, color = 'gray')\n",
    "plt.axhline(-1, color = 'gray', linestyle = 'dotted')\n",
    "plt.title(\"Fairness Metric - Disparate Impact for Protected Class Variable: Gender against Loan Status - Original Dataset \")\n",
    "plt.show()"
   ]
  },
  {
   "cell_type": "code",
   "execution_count": 110,
   "metadata": {},
   "outputs": [
    {
     "name": "stderr",
     "output_type": "stream",
     "text": [
      "Matplotlib is currently using agg, which is a non-GUI backend, so cannot show the figure.\n"
     ]
    },
    {
     "data": {
      "image/png": "[encoded data removed]",
      "text/plain": [
       "<Figure size 720x360 with 1 Axes>"
      ]
     },
     "metadata": {
      "needs_background": "light"
     },
     "output_type": "display_data"
    }
   ],
   "source": [
    "#Statistical Parity on predicted for Gender:  0.05833333333333335\n",
    "# creating the dataset\n",
    "data = {'Statistical Parity':0.05833}\n",
    "metric = list(data.keys())\n",
    "value = list(data.values())\n",
    "  \n",
    "fig_StatParity_Gender_OriginalDataset = plt.figure(figsize = (10, 5))\n",
    " \n",
    "# creating the bar plot\n",
    "plt.bar(metric, value, width = 0.3)\n",
    " \n",
    "#plt.xlabel(\"Disparate Impact\")\n",
    "plt.ylim([-2, 2])\n",
    "plt.xlim([-1, 1])\n",
    "plt.ylabel(\"Value\")\n",
    "plt.axhline(1, color = 'gray', linestyle = 'dotted')\n",
    "plt.axhline(0, color = 'gray')\n",
    "plt.axhline(-1, color = 'gray', linestyle = 'dotted')\n",
    "plt.title(\"Fairness Metric - Statistical Parity for Protected Class Variable: Gender against Loan Status - Original Dataset \")\n",
    "plt.show()"
   ]
  },
  {
   "cell_type": "code",
   "execution_count": 111,
   "metadata": {},
   "outputs": [
    {
     "name": "stderr",
     "output_type": "stream",
     "text": [
      "Matplotlib is currently using agg, which is a non-GUI backend, so cannot show the figure.\n"
     ]
    },
    {
     "data": {
      "image/png": "[encoded data removed]",
      "text/plain": [
       "<Figure size 720x360 with 1 Axes>"
      ]
     },
     "metadata": {
      "needs_background": "light"
     },
     "output_type": "display_data"
    }
   ],
   "source": [
    "#Disparate Impact on predicted for Gender - transformed dataset:  1.1797752808988764\n",
    "# creating the dataset\n",
    "data = {'Disparate Impact':1.17977}\n",
    "metric = list(data.keys())\n",
    "value = list(data.values())\n",
    "  \n",
    "fig_DispImpact_Gender_TransformedDataset = plt.figure(figsize = (10, 5))\n",
    " \n",
    "# creating the bar plot\n",
    "plt.bar(metric, value, width = 0.3)\n",
    " \n",
    "#plt.xlabel(\"Disparate Impact\")\n",
    "plt.ylim([-2, 2])\n",
    "plt.xlim([-1, 1])\n",
    "plt.ylabel(\"Value\")\n",
    "plt.axhline(1, color = 'gray', linestyle = 'dotted')\n",
    "plt.axhline(0, color = 'gray')\n",
    "plt.axhline(-1, color = 'gray', linestyle = 'dotted')\n",
    "plt.title(\"Fairness Metric - Disparate Impact for Protected Class Variable: Gender against Loan Status - Transformed Dataset \")\n",
    "plt.show()"
   ]
  },
  {
   "cell_type": "code",
   "execution_count": 112,
   "metadata": {},
   "outputs": [
    {
     "name": "stderr",
     "output_type": "stream",
     "text": [
      "Matplotlib is currently using agg, which is a non-GUI backend, so cannot show the figure.\n"
     ]
    },
    {
     "data": {
      "image/png": "[encoded data removed]",
      "text/plain": [
       "<Figure size 720x360 with 1 Axes>"
      ]
     },
     "metadata": {
      "needs_background": "light"
     },
     "output_type": "display_data"
    }
   ],
   "source": [
    "#Statistical Parity on predicted for Gender - transformed dataset:  0.1333333333333333\n",
    "# creating the dataset\n",
    "data = {'Statistical Parity':0.13333}\n",
    "metric = list(data.keys())\n",
    "value = list(data.values())\n",
    "  \n",
    "fig_StatParity_Gender_TransformedDataset = plt.figure(figsize = (10, 5))\n",
    " \n",
    "# creating the bar plot\n",
    "plt.bar(metric, value, width = 0.3)\n",
    " \n",
    "#plt.xlabel(\"Disparate Impact\")\n",
    "plt.ylim([-2, 2])\n",
    "plt.xlim([-1, 1])\n",
    "plt.ylabel(\"Value\")\n",
    "plt.axhline(1, color = 'gray', linestyle = 'dotted')\n",
    "plt.axhline(0, color = 'gray')\n",
    "plt.axhline(-1, color = 'gray', linestyle = 'dotted')\n",
    "plt.title(\"Fairness Metric - Statistical Parity for Protected Class Variable: Gender against Loan Status - Transformed Dataset \")\n",
    "plt.show()"
   ]
  },
  {
   "cell_type": "markdown",
   "metadata": {},
   "source": [
    "#### 4.6)  For each fairness metric, in table format, discuss if there were any differences in the outcomes for the privileged versus unprivileged group. Was there a positive change, negative change, or no change on that fairness metric after transforming the dataset earlier in Step 3.4? Was there a positive change, negative change, or no change on that fairness metric after applying your bias mitigation algorithm - with respect to the original testing dataset and the transformed testing dataset? [Note: Use your subjective opinion]"
   ]
  },
  {
   "cell_type": "markdown",
   "metadata": {},
   "source": [
    "**Dependent Variable:** Loan Status <br> \n",
    "**Protected Class:** Gender <br>\n",
    "**Privileged:** Male; Unprivileged: Female <br>"
   ]
  },
  {
   "cell_type": "markdown",
   "metadata": {},
   "source": [
    "**Disparate Impact**<br>\n",
    "The ideal value of this metric is 1.0 A value < 1 implies higher benefit for the privileged group and a value >1 implies a higher benefit for the unprivileged group.\n",
    "Fairness for this metric is between 0.8 and 1.25\n"
   ]
  },
  {
   "cell_type": "markdown",
   "metadata": {},
   "source": [
    "| Dataset | Original | Transformed | Change |\n",
    "| ----------- | ----------- | ----------- | ----------- |\n",
    "| All | 0.953850430914651 | 1.1928934010152286 | Original dataset was in fairness range for this metric. Higher benefit to unprivileged group after transformation, however still in the fairness range. |\n",
    "| After Training Classifier | 1.075268817204301 | 1.1797752808988764 | Original dataset was in fairness range for this metric. Small increase in benefit to unprivileged group after transformation, however still in the fairness range.|"
   ]
  },
  {
   "cell_type": "markdown",
   "metadata": {},
   "source": [
    "**Statistical Parity**<br>\n",
    "The ideal value of this metric is 0 <br>\n",
    "Fairness for this metric is between -0.1 and 0.1"
   ]
  },
  {
   "cell_type": "markdown",
   "metadata": {},
   "source": [
    "| Dataset | Original | Transformed | Change |\n",
    "| ----------- | ----------- | ----------- | ----------- | \n",
    "| All | -0.03240288893226628 | 0.11409439464305005 | Original dataset metric value was within the fairness range of this metric. For transformed dataset, it crosses the fairness boundary and became slightly unfair > 0.1 |\n",
    "| After Training Classifier | 0.05833333333333335 | 0.1333333333333333 | Original dataset metric value was within the fairness range of this metric. For transformed dataset, it crosses the fairness boundary and became slightly unfair > 0.1. |"
   ]
  },
  {
   "cell_type": "markdown",
   "metadata": {},
   "source": [
    "# Step 5"
   ]
  },
  {
   "cell_type": "markdown",
   "metadata": {},
   "source": [
    "#### 5.2) Graph the results from applying the two fairness metrics on your privileged/unprivileged groups as derived from Step 3.2, 3.4, and 4.5 "
   ]
  },
  {
   "cell_type": "code",
   "execution_count": 113,
   "metadata": {},
   "outputs": [
    {
     "name": "stderr",
     "output_type": "stream",
     "text": [
      "Matplotlib is currently using agg, which is a non-GUI backend, so cannot show the figure.\n"
     ]
    },
    {
     "data": {
      "image/png": "[encoded data removed]",
      "text/plain": [
       "<Figure size 720x360 with 1 Axes>"
      ]
     },
     "metadata": {
      "needs_background": "light"
     },
     "output_type": "display_data"
    }
   ],
   "source": [
    "#Disparate Impact on predicted for Gender:  1.075268817204301\n",
    "# creating the dataset\n",
    "data = {'Disparate Impact Original':1.19289,'Disparate Impact Original with Classifier':1.07526, 'Disparate Impact Tranformed with Classifier':1.17977}\n",
    "metric = list(data.keys())\n",
    "value = list(data.values())\n",
    "  \n",
    "fig_DispImpact_Gender_OriginalDataset = plt.figure(figsize = (10, 5))\n",
    " \n",
    "# creating the bar plot\n",
    "plt.bar(metric, value, width = 0.3)\n",
    " \n",
    "plt.ylim([-1.5, 1.5])\n",
    "plt.xlim([-0.5, 2.5])\n",
    "plt.ylabel(\"Value\")\n",
    "plt.axhline(1, color = 'gray', linestyle = 'dotted')\n",
    "plt.axhline(0, color = 'gray')\n",
    "plt.axhline(-1, color = 'gray', linestyle = 'dotted')\n",
    "plt.xticks(rotation = 5)\n",
    "plt.title(\"Fairness Metric 1 - Disparate Impact for Protected Class Variable: Gender against Loan Status\")\n",
    "plt.show()"
   ]
  },
  {
   "cell_type": "code",
   "execution_count": 114,
   "metadata": {},
   "outputs": [
    {
     "name": "stderr",
     "output_type": "stream",
     "text": [
      "Matplotlib is currently using agg, which is a non-GUI backend, so cannot show the figure.\n"
     ]
    },
    {
     "data": {
      "image/png": "[encoded data removed]",
      "text/plain": [
       "<Figure size 720x360 with 1 Axes>"
      ]
     },
     "metadata": {
      "needs_background": "light"
     },
     "output_type": "display_data"
    }
   ],
   "source": [
    "#Statistical Parity on predicted for Gender:  0.05833333333333335\n",
    "# creating the dataset\n",
    "data = {'Statistical Parity Original':0.11409, 'Statistical Parity Original with Classifier':0.05833, 'Statistical Parity Transformed with Classifier': 0.13333}\n",
    "metric = list(data.keys())\n",
    "value = list(data.values())\n",
    "  \n",
    "fig_StatParity_Gender_OriginalDataset = plt.figure(figsize = (10, 5))\n",
    " \n",
    "# creating the bar plot\n",
    "plt.bar(metric, value, width = 0.3)\n",
    " \n",
    "plt.ylim([-0.5, 0.5])\n",
    "plt.xlim([-0.5, 2.5])\n",
    "plt.ylabel(\"Value\")\n",
    "plt.axhline(-0.1, color = 'gray', linestyle = 'dotted')\n",
    "plt.axhline(0, color = 'gray')\n",
    "plt.axhline(0.1, color = 'gray', linestyle = 'dotted')\n",
    "plt.xticks(rotation = 5)\n",
    "plt.title(\"Fairness Metric 2 - Statistical Parity for Protected Class Variable: Gender against Loan Status\")\n",
    "plt.show()"
   ]
  },
  {
   "cell_type": "markdown",
   "metadata": {},
   "source": [
    "#### 5.3) Explain which fairness metric (if any) is best and provide a justification for your answer, Each team member must provide a separate answer to the following questions in no-more than a one-paragraph response (this is to be included in the submitted group report, with a reference to the student author). Note: If a group member fails to provide a response, the team is free to indicate that in the final report submission with No Response and a reference to the student author. Did any of these approaches seems to work to mitigate bias (or increase fairness)? Explain your reasoning. Did any group receive a positive advantage? Was any group disadvantaged by these approaches? What issues would arise if you used these methods to mitigate bias?"
   ]
  },
  {
   "cell_type": "markdown",
   "metadata": {},
   "source": [
    "### **Luis Antonio De Los Heros Beunza (lbeunza3):** <br>\n",
    "Given that disparate impact measures the ratio of unprivileged to privileged and statistical parity measures the difference in the ratios, after comparing the numbers in the summary table, my conclusion is that the approaches taken to mitigate bias were not sufficient and led to overcompensation of the privilege to unprivileged ratio therefore not assisting with fairness. Originally, we observed the unprivileged category to be at a disadvantage by minimal figures (privileged -male ratio of a loan status equals to yes was 70% and unprivileged - female was 67% making disparate impact at 95%), however when we applied our fairness metrics, we observed the opposite, making the privileged at a disadvantage. Some issues that would arise if these methods would be utilized are that we might have confusion as to which group is really at a disadvantage and we may act against the unprivileged making the situation even worse than when having original bias."
   ]
  },
  {
   "cell_type": "code",
   "execution_count": null,
   "metadata": {},
   "outputs": [],
   "source": []
  }
 ],
 "metadata": {
  "kernelspec": {
   "display_name": "Python 3",
   "language": "python",
   "name": "python3"
  },
  "language_info": {
   "codemirror_mode": {
    "name": "ipython",
    "version": 3
   },
   "file_extension": ".py",
   "mimetype": "text/x-python",
   "name": "python",
   "nbconvert_exporter": "python",
   "pygments_lexer": "ipython3",
   "version": "3.7.0"
  }
 },
 "nbformat": 4,
 "nbformat_minor": 5
}
